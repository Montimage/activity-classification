{
 "cells": [
  {
   "cell_type": "code",
   "execution_count": 97,
   "metadata": {},
   "outputs": [
    {
     "name": "stdout",
     "output_type": "stream",
     "text": [
      "The shape of the training dataset: (279, 22)\n",
      "The shape of the testing dataset: (103, 22)\n",
      "The shape of the full dataset: (382, 22)\n"
     ]
    },
    {
     "data": {
      "text/html": [
       "<div>\n",
       "<style scoped>\n",
       "    .dataframe tbody tr th:only-of-type {\n",
       "        vertical-align: middle;\n",
       "    }\n",
       "\n",
       "    .dataframe tbody tr th {\n",
       "        vertical-align: top;\n",
       "    }\n",
       "\n",
       "    .dataframe thead th {\n",
       "        text-align: right;\n",
       "    }\n",
       "</style>\n",
       "<table border=\"1\" class=\"dataframe\">\n",
       "  <thead>\n",
       "    <tr style=\"text-align: right;\">\n",
       "      <th></th>\n",
       "      <th>session_time</th>\n",
       "      <th>%tcp_protocol</th>\n",
       "      <th>%udp_protocol</th>\n",
       "      <th>ul_data_volume</th>\n",
       "      <th>max_ul_volume</th>\n",
       "      <th>min_ul_volume</th>\n",
       "      <th>avg_ul_volume</th>\n",
       "      <th>std_ul_volume</th>\n",
       "      <th>%ul_volume</th>\n",
       "      <th>dl_data_volume</th>\n",
       "      <th>...</th>\n",
       "      <th>avg_dl_volume</th>\n",
       "      <th>std_dl_volume</th>\n",
       "      <th>%dl_volume</th>\n",
       "      <th>nb_uplink_packet</th>\n",
       "      <th>nb_downlink_packet</th>\n",
       "      <th>ul_packet</th>\n",
       "      <th>dl_packet</th>\n",
       "      <th>kB/s</th>\n",
       "      <th>nb_packet/s</th>\n",
       "      <th>output</th>\n",
       "    </tr>\n",
       "  </thead>\n",
       "  <tbody>\n",
       "    <tr>\n",
       "      <th>0</th>\n",
       "      <td>4.999674</td>\n",
       "      <td>100.000000</td>\n",
       "      <td>0.000000</td>\n",
       "      <td>99090</td>\n",
       "      <td>54</td>\n",
       "      <td>54</td>\n",
       "      <td>54.000000</td>\n",
       "      <td>0.000000</td>\n",
       "      <td>1.652834</td>\n",
       "      <td>5896066</td>\n",
       "      <td>...</td>\n",
       "      <td>1564.358185</td>\n",
       "      <td>313.304936</td>\n",
       "      <td>98.347166</td>\n",
       "      <td>1835</td>\n",
       "      <td>3769</td>\n",
       "      <td>32.744468</td>\n",
       "      <td>67.255532</td>\n",
       "      <td>1199.109362</td>\n",
       "      <td>1120.873063</td>\n",
       "      <td>1</td>\n",
       "    </tr>\n",
       "    <tr>\n",
       "      <th>1</th>\n",
       "      <td>0.892125</td>\n",
       "      <td>100.000000</td>\n",
       "      <td>0.000000</td>\n",
       "      <td>32184</td>\n",
       "      <td>54</td>\n",
       "      <td>54</td>\n",
       "      <td>54.000000</td>\n",
       "      <td>0.000000</td>\n",
       "      <td>1.673617</td>\n",
       "      <td>1890837</td>\n",
       "      <td>...</td>\n",
       "      <td>1594.297639</td>\n",
       "      <td>601.903863</td>\n",
       "      <td>98.326383</td>\n",
       "      <td>596</td>\n",
       "      <td>1186</td>\n",
       "      <td>33.445567</td>\n",
       "      <td>66.554433</td>\n",
       "      <td>2155.550758</td>\n",
       "      <td>1997.477642</td>\n",
       "      <td>1</td>\n",
       "    </tr>\n",
       "    <tr>\n",
       "      <th>2</th>\n",
       "      <td>3.412767</td>\n",
       "      <td>99.857265</td>\n",
       "      <td>0.142735</td>\n",
       "      <td>77133</td>\n",
       "      <td>471</td>\n",
       "      <td>54</td>\n",
       "      <td>55.213314</td>\n",
       "      <td>18.696881</td>\n",
       "      <td>2.276791</td>\n",
       "      <td>3310662</td>\n",
       "      <td>...</td>\n",
       "      <td>1571.268154</td>\n",
       "      <td>562.653689</td>\n",
       "      <td>97.723209</td>\n",
       "      <td>1397</td>\n",
       "      <td>2107</td>\n",
       "      <td>39.868721</td>\n",
       "      <td>60.131279</td>\n",
       "      <td>992.682790</td>\n",
       "      <td>1026.732873</td>\n",
       "      <td>1</td>\n",
       "    </tr>\n",
       "    <tr>\n",
       "      <th>3</th>\n",
       "      <td>4.999285</td>\n",
       "      <td>99.888471</td>\n",
       "      <td>0.111529</td>\n",
       "      <td>142985</td>\n",
       "      <td>471</td>\n",
       "      <td>54</td>\n",
       "      <td>54.699694</td>\n",
       "      <td>14.495354</td>\n",
       "      <td>1.925924</td>\n",
       "      <td>7281243</td>\n",
       "      <td>...</td>\n",
       "      <td>1597.114060</td>\n",
       "      <td>649.341567</td>\n",
       "      <td>98.074076</td>\n",
       "      <td>2614</td>\n",
       "      <td>4559</td>\n",
       "      <td>36.442214</td>\n",
       "      <td>63.557786</td>\n",
       "      <td>1485.057968</td>\n",
       "      <td>1434.805182</td>\n",
       "      <td>1</td>\n",
       "    </tr>\n",
       "    <tr>\n",
       "      <th>4</th>\n",
       "      <td>1.682172</td>\n",
       "      <td>100.000000</td>\n",
       "      <td>0.000000</td>\n",
       "      <td>60534</td>\n",
       "      <td>54</td>\n",
       "      <td>54</td>\n",
       "      <td>54.000000</td>\n",
       "      <td>0.000000</td>\n",
       "      <td>1.571208</td>\n",
       "      <td>3792170</td>\n",
       "      <td>...</td>\n",
       "      <td>1645.907118</td>\n",
       "      <td>1250.277675</td>\n",
       "      <td>98.428792</td>\n",
       "      <td>1121</td>\n",
       "      <td>2304</td>\n",
       "      <td>32.729927</td>\n",
       "      <td>67.270073</td>\n",
       "      <td>2290.315058</td>\n",
       "      <td>2036.058071</td>\n",
       "      <td>1</td>\n",
       "    </tr>\n",
       "  </tbody>\n",
       "</table>\n",
       "<p>5 rows × 22 columns</p>\n",
       "</div>"
      ],
      "text/plain": [
       "   session_time  %tcp_protocol  %udp_protocol  ul_data_volume  max_ul_volume  \\\n",
       "0      4.999674     100.000000       0.000000           99090             54   \n",
       "1      0.892125     100.000000       0.000000           32184             54   \n",
       "2      3.412767      99.857265       0.142735           77133            471   \n",
       "3      4.999285      99.888471       0.111529          142985            471   \n",
       "4      1.682172     100.000000       0.000000           60534             54   \n",
       "\n",
       "   min_ul_volume  avg_ul_volume  std_ul_volume  %ul_volume  dl_data_volume  \\\n",
       "0             54      54.000000       0.000000    1.652834         5896066   \n",
       "1             54      54.000000       0.000000    1.673617         1890837   \n",
       "2             54      55.213314      18.696881    2.276791         3310662   \n",
       "3             54      54.699694      14.495354    1.925924         7281243   \n",
       "4             54      54.000000       0.000000    1.571208         3792170   \n",
       "\n",
       "   ...  avg_dl_volume  std_dl_volume  %dl_volume  nb_uplink_packet  \\\n",
       "0  ...    1564.358185     313.304936   98.347166              1835   \n",
       "1  ...    1594.297639     601.903863   98.326383               596   \n",
       "2  ...    1571.268154     562.653689   97.723209              1397   \n",
       "3  ...    1597.114060     649.341567   98.074076              2614   \n",
       "4  ...    1645.907118    1250.277675   98.428792              1121   \n",
       "\n",
       "   nb_downlink_packet  ul_packet  dl_packet         kB/s  nb_packet/s  output  \n",
       "0                3769  32.744468  67.255532  1199.109362  1120.873063       1  \n",
       "1                1186  33.445567  66.554433  2155.550758  1997.477642       1  \n",
       "2                2107  39.868721  60.131279   992.682790  1026.732873       1  \n",
       "3                4559  36.442214  63.557786  1485.057968  1434.805182       1  \n",
       "4                2304  32.729927  67.270073  2290.315058  2036.058071       1  \n",
       "\n",
       "[5 rows x 22 columns]"
      ]
     },
     "execution_count": 97,
     "metadata": {},
     "output_type": "execute_result"
    }
   ],
   "source": [
    "import numpy as np\n",
    "import pandas as pd\n",
    "from tensorflow.keras.models import Sequential\n",
    "from tensorflow.keras.layers import Dense\n",
    "from sklearn.preprocessing import StandardScaler\n",
    "\n",
    "# Load the training/testing dataset from csv files\n",
    "training_dataset = pd.read_csv(\"../output_train.csv\", header=0, usecols=[*range(1,23)], sep=\";\")\n",
    "testing_dataset = pd.read_csv(\"../output_test.csv\", header=0, usecols=[*range(1,23)], sep=\";\")\n",
    "training_dataset.dropna(axis = 0, inplace = True)\n",
    "testing_dataset.dropna(axis = 0, inplace = True)\n",
    "\n",
    "full_dataset = pd.concat([training_dataset, testing_dataset], ignore_index=True)\n",
    "\n",
    "# Remove missing values\n",
    "training_dataset.dropna(axis = 0, inplace = True)\n",
    "testing_dataset.dropna(axis = 0, inplace = True)\n",
    "\n",
    "print(\"The shape of the training dataset: \" + str(training_dataset.shape))\n",
    "print(\"The shape of the testing dataset: \" + str(testing_dataset.shape))\n",
    "print(\"The shape of the full dataset: \" + str(full_dataset.shape))\n",
    "\n",
    "full_dataset.head()"
   ]
  },
  {
   "cell_type": "code",
   "execution_count": 98,
   "metadata": {},
   "outputs": [
    {
     "data": {
      "text/plain": [
       "0"
      ]
     },
     "execution_count": 98,
     "metadata": {},
     "output_type": "execute_result"
    }
   ],
   "source": [
    "full_dataset.isnull().sum().sum()"
   ]
  },
  {
   "cell_type": "code",
   "execution_count": 87,
   "metadata": {},
   "outputs": [
    {
     "name": "stdout",
     "output_type": "stream",
     "text": [
      "     output\n",
      "0         1\n",
      "1         1\n",
      "2         1\n",
      "3         1\n",
      "4         1\n",
      "..      ...\n",
      "377       1\n",
      "378       1\n",
      "379       1\n",
      "380       1\n",
      "381       1\n",
      "\n",
      "[382 rows x 1 columns]\n",
      "     %dl_volume  %tcp_protocol  %udp_protocol  %ul_volume  avg_dl_volume  \\\n",
      "0     98.347166     100.000000       0.000000    1.652834    1564.358185   \n",
      "1     98.326383     100.000000       0.000000    1.673617    1594.297639   \n",
      "2     97.723209      99.857265       0.142735    2.276791    1571.268154   \n",
      "3     98.074076      99.888471       0.111529    1.925924    1597.114060   \n",
      "4     98.428792     100.000000       0.000000    1.571208    1645.907118   \n",
      "..          ...            ...            ...         ...            ...   \n",
      "377   98.724186      97.916667       2.083333    1.275814    6629.000000   \n",
      "378   99.294438      96.666667       3.333333    0.705562    9328.116667   \n",
      "379   99.174145      97.142857       2.857143    0.825855    7573.915493   \n",
      "380   99.011638      94.444444       5.555556    0.988362    7415.916667   \n",
      "381   99.019186     100.000000       0.000000    0.980814    7910.205882   \n",
      "\n",
      "     avg_ul_volume  dl_data_volume  dl_packet         kB/s  max_dl_volume  \\\n",
      "0        54.000000         5896066  67.255532  1199.109362           5894   \n",
      "1        54.000000         1890837  66.554433  2155.550758           7354   \n",
      "2        55.213314         3310662  60.131279   992.682790           7354   \n",
      "3        54.699694         7281243  63.557786  1485.057968           8814   \n",
      "4        54.000000         3792170  67.270073  2290.315058          33634   \n",
      "..             ...             ...        ...          ...            ...   \n",
      "377      82.240000          159096  48.979592   560.549800          20657   \n",
      "378      66.283333          559687  50.000000  1176.162403          23414   \n",
      "379      64.898551          537748  50.714286  1417.261236          24874   \n",
      "380      74.027778          266973  50.000000  1442.462208          23414   \n",
      "381      78.352941          537894  50.000000  1595.309242          35094   \n",
      "\n",
      "     ...  min_dl_volume  min_ul_volume  nb_downlink_packet  nb_packet/s  \\\n",
      "0    ...         1514.0             54                3769  1120.873063   \n",
      "1    ...           60.0             54                1186  1997.477642   \n",
      "2    ...           60.0             54                2107  1026.732873   \n",
      "3    ...           60.0             54                4559  1434.805182   \n",
      "4    ...           60.0             54                2304  2036.058071   \n",
      "..   ...            ...            ...                 ...          ...   \n",
      "377  ...           60.0             54                  24   170.441200   \n",
      "378  ...           60.0             54                  60   250.396492   \n",
      "379  ...           60.0             54                  71   365.929655   \n",
      "380  ...           60.0             54                  36   385.173006   \n",
      "381  ...           60.0             54                  68   399.398509   \n",
      "\n",
      "     nb_uplink_packet  session_time  std_dl_volume  std_ul_volume  \\\n",
      "0                1835      4.999674     313.304936       0.000000   \n",
      "1                 596      0.892125     601.903863       0.000000   \n",
      "2                1397      3.412767     562.653689      18.696881   \n",
      "3                2614      4.999285     649.341567      14.495354   \n",
      "4                1121      1.682172    1250.277675       0.000000   \n",
      "..                ...           ...            ...            ...   \n",
      "377                25      0.287489    6467.303094      85.820200   \n",
      "378                60      0.479240    7670.297900      56.823871   \n",
      "379                69      0.382587    7275.029561      54.185722   \n",
      "380                36      0.186929    8472.295231      72.418027   \n",
      "381                68      0.340512    7692.872098     130.568535   \n",
      "\n",
      "     ul_data_volume  ul_packet  \n",
      "0             99090  32.744468  \n",
      "1             32184  33.445567  \n",
      "2             77133  39.868721  \n",
      "3            142985  36.442214  \n",
      "4             60534  32.729927  \n",
      "..              ...        ...  \n",
      "377            2056  51.020408  \n",
      "378            3977  50.000000  \n",
      "379            4478  49.285714  \n",
      "380            2665  50.000000  \n",
      "381            5328  50.000000  \n",
      "\n",
      "[382 rows x 21 columns]\n"
     ]
    }
   ],
   "source": [
    "y_df = full_dataset['output'].to_frame()\n",
    "X_df = full_dataset[full_dataset.columns.difference(['output'])]\n",
    "\n",
    "print(y_df)\n",
    "print(X_df)"
   ]
  },
  {
   "cell_type": "code",
   "execution_count": 88,
   "metadata": {},
   "outputs": [
    {
     "name": "stdout",
     "output_type": "stream",
     "text": [
      "(286, 21)\n",
      "(286, 1)\n",
      "(96, 21)\n",
      "(96, 1)\n",
      "     output\n",
      "146       2\n",
      "102       1\n",
      "236       1\n",
      "39        1\n",
      "278       1\n",
      "..      ...\n",
      "203       3\n",
      "255       1\n",
      "72        1\n",
      "235       1\n",
      "37        1\n",
      "\n",
      "[286 rows x 1 columns]\n",
      "     output\n",
      "189       1\n",
      "380       1\n",
      "120       1\n",
      "207       3\n",
      "320       1\n",
      "..      ...\n",
      "312       1\n",
      "98        1\n",
      "197       3\n",
      "225       1\n",
      "332       1\n",
      "\n",
      "[96 rows x 1 columns]\n"
     ]
    }
   ],
   "source": [
    "from sklearn.model_selection import train_test_split\n",
    "X_train, X_test, Y_train, Y_test = train_test_split(X_df, y_df, train_size=0.75, random_state=1)\n",
    "\n",
    "print(X_train.shape)\n",
    "print(Y_train.shape)\n",
    "print(X_test.shape)\n",
    "print(Y_test.shape)\n",
    "\n",
    "# values: 1, 2, or 3\n",
    "print(Y_train)\n",
    "print(Y_test)"
   ]
  },
  {
   "cell_type": "code",
   "execution_count": 89,
   "metadata": {},
   "outputs": [],
   "source": [
    "from lightgbm import LGBMRegressor\n",
    "regressor = LGBMRegressor(n_estimators=100).fit(X_train, Y_train)"
   ]
  },
  {
   "cell_type": "code",
   "execution_count": 1,
   "metadata": {},
   "outputs": [
    {
     "ename": "ModuleNotFoundError",
     "evalue": "No module named 'shapash'",
     "output_type": "error",
     "traceback": [
      "\u001b[1;31m---------------------------------------------------------------------------\u001b[0m",
      "\u001b[1;31mModuleNotFoundError\u001b[0m                       Traceback (most recent call last)",
      "\u001b[1;32m~\\AppData\\Local\\Temp/ipykernel_28600/2271839728.py\u001b[0m in \u001b[0;36m<module>\u001b[1;34m\u001b[0m\n\u001b[1;32m----> 1\u001b[1;33m \u001b[1;32mfrom\u001b[0m \u001b[0mshapash\u001b[0m \u001b[1;32mimport\u001b[0m \u001b[0mSmartExplainer\u001b[0m\u001b[1;33m\u001b[0m\u001b[1;33m\u001b[0m\u001b[0m\n\u001b[0m\u001b[0;32m      2\u001b[0m \u001b[0mfeatures\u001b[0m \u001b[1;33m=\u001b[0m \u001b[0mlist\u001b[0m\u001b[1;33m(\u001b[0m\u001b[0mtesting_dataset\u001b[0m\u001b[1;33m.\u001b[0m\u001b[0mcolumns\u001b[0m\u001b[1;33m)\u001b[0m\u001b[1;33m\u001b[0m\u001b[1;33m\u001b[0m\u001b[0m\n\u001b[0;32m      3\u001b[0m \u001b[0mfeatures_dict\u001b[0m \u001b[1;33m=\u001b[0m \u001b[0mdict\u001b[0m\u001b[1;33m(\u001b[0m\u001b[0mzip\u001b[0m\u001b[1;33m(\u001b[0m\u001b[0mfeatures\u001b[0m\u001b[1;33m,\u001b[0m \u001b[0mfeatures\u001b[0m\u001b[1;33m)\u001b[0m\u001b[1;33m)\u001b[0m\u001b[1;33m\u001b[0m\u001b[1;33m\u001b[0m\u001b[0m\n\u001b[0;32m      4\u001b[0m xpl = SmartExplainer(\n\u001b[0;32m      5\u001b[0m     \u001b[0mmodel\u001b[0m\u001b[1;33m=\u001b[0m\u001b[0mregressor\u001b[0m\u001b[1;33m,\u001b[0m\u001b[1;33m\u001b[0m\u001b[1;33m\u001b[0m\u001b[0m\n",
      "\u001b[1;31mModuleNotFoundError\u001b[0m: No module named 'shapash'"
     ]
    }
   ],
   "source": [
    "from shapash import SmartExplainer\n",
    "features = list(testing_dataset.columns)\n",
    "features_dict = dict(zip(features, features))\n",
    "xpl = SmartExplainer(\n",
    "    model=regressor,\n",
    "    #preprocessing=encoder,   # Optional: compile step can use inverse_transform method\n",
    "    features_dict=features_dict # optional parameter, specifies label for features name \n",
    ")\n",
    "xpl.compile(x=X_test,\n",
    "            y_target=Y_test # Optional: allows to display True Values vs Predicted Values\n",
    "           )"
   ]
  },
  {
   "cell_type": "code",
   "execution_count": 91,
   "metadata": {},
   "outputs": [
    {
     "name": "stderr",
     "output_type": "stream",
     "text": [
      "/Library/Python/3.8/site-packages/shapash/webapp/smart_app.py:338: FutureWarning:\n",
      "\n",
      "Using short name for 'orient' is deprecated. Only the options: ('dict', list, 'series', 'split', 'records', 'index') will be used in a future version. Use one of the above to silence this warning.\n",
      "\n",
      "INFO:root:Your Shapash application run on http://Manhs-MacBook-Pro.local:8020/\n"
     ]
    },
    {
     "name": "stdout",
     "output_type": "stream",
     "text": [
      "Dash is running on http://0.0.0.0:8020/\n",
      "\n"
     ]
    },
    {
     "name": "stderr",
     "output_type": "stream",
     "text": [
      "INFO:root:Use the method .kill() to down your app.\n"
     ]
    },
    {
     "name": "stdout",
     "output_type": "stream",
     "text": [
      "Dash is running on http://0.0.0.0:8020/\n",
      "\n",
      "Dash is running on http://0.0.0.0:8020/\n",
      "\n",
      "Dash is running on http://0.0.0.0:8020/\n",
      "\n",
      "Dash is running on http://0.0.0.0:8020/\n",
      "\n"
     ]
    }
   ],
   "source": [
    "app = xpl.run_app(title_story='User Network Activities Classification', port=8020)"
   ]
  },
  {
   "cell_type": "code",
   "execution_count": 48,
   "metadata": {},
   "outputs": [],
   "source": [
    "app.kill()"
   ]
  },
  {
   "cell_type": "code",
   "execution_count": 92,
   "metadata": {},
   "outputs": [
    {
     "data": {
      "application/vnd.plotly.v1+json": {
       "config": {
        "plotlyServerURL": "https://plot.ly"
       },
       "data": [
        {
         "customdata": [
          "nb_downlink_packet",
          "%udp_protocol",
          "avg_dl_volume",
          "dl_data_volume",
          "nb_uplink_packet",
          "std_ul_volume",
          "min_dl_volume",
          "ul_packet",
          "kB/s",
          "nb_packet/s",
          "dl_packet",
          "min_ul_volume",
          "%dl_volume",
          "max_ul_volume",
          "ul_data_volume",
          "avg_ul_volume",
          "session_time",
          "std_dl_volume",
          "max_dl_volume",
          "%tcp_protocol"
         ],
         "hovertemplate": "Feature: %{customdata}<br />Contribution: %{x:.4f}<extra></extra>",
         "marker": {
          "color": [
           "rgba(244, 192, 0, 1.0)",
           "rgba(244, 192, 0, 1.0)",
           "rgba(244, 192, 0, 1.0)",
           "rgba(244, 192, 0, 1.0)",
           "rgba(244, 192, 0, 1.0)",
           "rgba(244, 192, 0, 1.0)",
           "rgba(244, 192, 0, 1.0)",
           "rgba(244, 192, 0, 1.0)",
           "rgba(244, 192, 0, 1.0)",
           "rgba(244, 192, 0, 1.0)",
           "rgba(244, 192, 0, 1.0)",
           "rgba(244, 192, 0, 1.0)",
           "rgba(244, 192, 0, 1.0)",
           "rgba(244, 192, 0, 1.0)",
           "rgba(244, 192, 0, 1.0)",
           "rgba(244, 192, 0, 1.0)",
           "rgba(244, 192, 0, 1.0)",
           "rgba(244, 192, 0, 1.0)",
           "rgba(244, 192, 0, 1.0)",
           "rgba(244, 192, 0, 1.0)"
          ],
          "line": {
           "color": "rgba(52, 55, 54, 0.8)",
           "width": 0.5
          }
         },
         "name": "Global",
         "orientation": "h",
         "type": "bar",
         "x": [
          0.0023,
          0.0052,
          0.0059,
          0.0075,
          0.0083,
          0.0095,
          0.0111,
          0.0118,
          0.0141,
          0.0153,
          0.0165,
          0.02,
          0.0215,
          0.0396,
          0.0537,
          0.0726,
          0.074,
          0.1776,
          0.1914,
          0.2402
         ],
         "y": [
          "nb_downlink_packet",
          "%udp_protocol",
          "avg_dl_volume",
          "dl_data_volume",
          "nb_uplink_packet",
          "std_ul_volume",
          "min_dl_volume",
          "ul_packet",
          "kB/s",
          "nb_packet/s",
          "dl_packet",
          "min_ul_volume",
          "%dl_volume",
          "max_ul_volume",
          "ul_data_volume",
          "avg_ul_volume",
          "session_time",
          "std_dl_volume",
          "max_dl_volume",
          "%tcp_protocol"
         ]
        }
       ],
       "layout": {
        "autosize": false,
        "barmode": "group",
        "height": 500,
        "hovermode": "closest",
        "margin": {
         "b": 50,
         "l": 160,
         "r": 0,
         "t": 95
        },
        "template": {
         "data": {
          "scatter": [
           {
            "type": "scatter"
           }
          ]
         }
        },
        "title": {
         "font": {
          "color": "rgb(50, 50, 50)",
          "family": "Arial",
          "size": 24
         },
         "text": "Features Importance<br><sup>Total number of features: 21</sup>",
         "x": 0.5,
         "xanchor": "center",
         "y": 0.9,
         "yanchor": "middle"
        },
        "width": 900,
        "xaxis": {
         "title": {
          "font": {
           "color": "rgb(50, 50, 50)",
           "family": "Arial Black",
           "size": 16
          },
          "text": "Contribution"
         }
        },
        "yaxis": {
         "automargin": true,
         "dtick": 1,
         "tickmode": "array",
         "ticktext": [
          "nb_downlink_packet",
          "%udp_protocol",
          "avg_dl_volume",
          "dl_data_volume",
          "nb_uplink_packet",
          "std_ul_volume",
          "min_dl_volume",
          "ul_packet",
          "kB/s",
          "nb_packet/s",
          "dl_packet",
          "min_ul_volume",
          "%dl_volume",
          "max_ul_volume",
          "ul_data_volume",
          "avg_ul_volume",
          "session_time",
          "std_dl_volume",
          "max_dl_volume",
          "%tcp_protocol"
         ],
         "tickvals": [
          "nb_downlink_packet",
          "%udp_protocol",
          "avg_dl_volume",
          "dl_data_volume",
          "nb_uplink_packet",
          "std_ul_volume",
          "min_dl_volume",
          "ul_packet",
          "kB/s",
          "nb_packet/s",
          "dl_packet",
          "min_ul_volume",
          "%dl_volume",
          "max_ul_volume",
          "ul_data_volume",
          "avg_ul_volume",
          "session_time",
          "std_dl_volume",
          "max_dl_volume",
          "%tcp_protocol"
         ],
         "title": {
          "font": {
           "color": "rgb(50, 50, 50)",
           "family": "Arial Black",
           "size": 16
          }
         }
        }
       }
      }
     },
     "metadata": {},
     "output_type": "display_data"
    }
   ],
   "source": [
    "# Display feature importance\n",
    "xpl.plot.features_importance()"
   ]
  },
  {
   "cell_type": "code",
   "execution_count": 93,
   "metadata": {},
   "outputs": [
    {
     "data": {
      "application/vnd.plotly.v1+json": {
       "config": {
        "plotlyServerURL": "https://plot.ly"
       },
       "data": [
        {
         "customdata": [
          [
           100,
           189
          ],
          [
           94.44444444444444,
           380
          ],
          [
           91.83673469387756,
           120
          ],
          [
           100,
           207
          ],
          [
           100,
           320
          ],
          [
           2.380952380952381,
           344
          ],
          [
           100,
           4
          ],
          [
           100,
           93
          ],
          [
           100,
           309
          ],
          [
           99.6600566572238,
           221
          ],
          [
           4.395604395604396,
           180
          ],
          [
           1.7660044150110374,
           160
          ],
          [
           0,
           345
          ],
          [
           94.02985074626864,
           127
          ],
          [
           93.65079365079364,
           132
          ],
          [
           100,
           90
          ],
          [
           97.14285714285714,
           379
          ],
          [
           100,
           325
          ],
          [
           98.73417721518987,
           365
          ],
          [
           99.76119402985074,
           65
          ],
          [
           100,
           270
          ],
          [
           100,
           67
          ],
          [
           1.1904761904761905,
           162
          ],
          [
           100,
           5
          ],
          [
           99.86754966887418,
           244
          ],
          [
           0,
           356
          ],
          [
           92.45283018867924,
           119
          ],
          [
           95.04132231404958,
           232
          ],
          [
           94.87179487179488,
           122
          ],
          [
           88.57142857142857,
           138
          ],
          [
           99.88247392390188,
           6
          ],
          [
           100,
           117
          ],
          [
           95.83333333333331,
           304
          ],
          [
           99.65095986038396,
           223
          ],
          [
           96.03960396039604,
           303
          ],
          [
           0.8913649025069638,
           188
          ],
          [
           100,
           322
          ],
          [
           100,
           273
          ],
          [
           5.813953488372093,
           341
          ],
          [
           3.2719836400818,
           165
          ],
          [
           0,
           213
          ],
          [
           94.9367088607595,
           329
          ],
          [
           99.92306508693645,
           295
          ],
          [
           100,
           17
          ],
          [
           100,
           62
          ],
          [
           95.50561797752808,
           227
          ],
          [
           19.130434782608692,
           173
          ],
          [
           100,
           324
          ],
          [
           100,
           81
          ],
          [
           54.74576271186441,
           139
          ],
          [
           99.846484494934,
           292
          ],
          [
           100,
           89
          ],
          [
           0.5059523809523809,
           167
          ],
          [
           99.88045427375972,
           11
          ],
          [
           95.78947368421052,
           301
          ],
          [
           99.85704074338814,
           18
          ],
          [
           100,
           289
          ],
          [
           99.92306508693645,
           78
          ],
          [
           0,
           186
          ],
          [
           100,
           107
          ],
          [
           100,
           208
          ],
          [
           95.45454545454544,
           299
          ],
          [
           100,
           326
          ],
          [
           100,
           41
          ],
          [
           94.91525423728814,
           229
          ],
          [
           96.07843137254902,
           257
          ],
          [
           0.2258695979521156,
           361
          ],
          [
           98.41269841269842,
           373
          ],
          [
           100,
           23
          ],
          [
           100,
           284
          ],
          [
           99.88503104161876,
           13
          ],
          [
           96.66666666666669,
           378
          ],
          [
           98.46153846153848,
           249
          ],
          [
           0.6153846153846154,
           338
          ],
          [
           99.1150442477876,
           233
          ],
          [
           98.50746268656717,
           369
          ],
          [
           4.23572744014733,
           159
          ],
          [
           0,
           339
          ],
          [
           3.716216216216216,
           161
          ],
          [
           54.54545454545455,
           185
          ],
          [
           99.70414201183432,
           274
          ],
          [
           100,
           285
          ],
          [
           99.63898916967509,
           95
          ],
          [
           99.8791394730481,
           82
          ],
          [
           100,
           351
          ],
          [
           99.69897652016856,
           92
          ],
          [
           99.9267828378972,
           27
          ],
          [
           99.88556715777428,
           296
          ],
          [
           100,
           73
          ],
          [
           99.71098265895954,
           275
          ],
          [
           93.10344827586206,
           248
          ],
          [
           98.94736842105264,
           312
          ],
          [
           100,
           98
          ],
          [
           0,
           197
          ],
          [
           99.6832101372756,
           225
          ],
          [
           96.58119658119658,
           332
          ]
         ],
         "hovertemplate": "<b>%{hovertext}</b><br />%tcp_protocol: %{customdata[0]}<br />Contribution: %{y:.4f}<extra></extra>",
         "hovertext": [
          "Id: 189<br />Predict: 1.359",
          "Id: 380<br />Predict: 0.978",
          "Id: 120<br />Predict: 0.984",
          "Id: 207<br />Predict: 2.364",
          "Id: 320<br />Predict: 0.999",
          "Id: 344<br />Predict: 1.6",
          "Id: 4<br />Predict: 1.025",
          "Id: 93<br />Predict: 1.022",
          "Id: 309<br />Predict: 0.991",
          "Id: 221<br />Predict: 1.002",
          "Id: 180<br />Predict: 1.6",
          "Id: 160<br />Predict: 2.031",
          "Id: 345<br />Predict: 2.213",
          "Id: 127<br />Predict: 1.096",
          "Id: 132<br />Predict: 0.906",
          "Id: 90<br />Predict: 1.015",
          "Id: 379<br />Predict: 1.006",
          "Id: 325<br />Predict: 0.974",
          "Id: 365<br />Predict: 1.016",
          "Id: 65<br />Predict: 1.013",
          "Id: 270<br />Predict: 0.999",
          "Id: 67<br />Predict: 1.007",
          "Id: 162<br />Predict: 2.279",
          "Id: 5<br />Predict: 1.01",
          "Id: 244<br />Predict: 0.989",
          "Id: 356<br />Predict: 2.666",
          "Id: 119<br />Predict: 0.927",
          "Id: 232<br />Predict: 1.027",
          "Id: 122<br />Predict: 1.049",
          "Id: 138<br />Predict: 1.038",
          "Id: 6<br />Predict: 0.999",
          "Id: 117<br />Predict: 1.013",
          "Id: 304<br />Predict: 0.992",
          "Id: 223<br />Predict: 0.992",
          "Id: 303<br />Predict: 1.016",
          "Id: 188<br />Predict: 2.518",
          "Id: 322<br />Predict: 0.994",
          "Id: 273<br />Predict: 1.001",
          "Id: 341<br />Predict: 2.202",
          "Id: 165<br />Predict: 2.139",
          "Id: 213<br />Predict: 3.02",
          "Id: 329<br />Predict: 1.016",
          "Id: 295<br />Predict: 0.998",
          "Id: 17<br />Predict: 1.013",
          "Id: 62<br />Predict: 1.152",
          "Id: 227<br />Predict: 1.021",
          "Id: 173<br />Predict: 0.743",
          "Id: 324<br />Predict: 1.041",
          "Id: 81<br />Predict: 1.009",
          "Id: 139<br />Predict: 0.848",
          "Id: 292<br />Predict: 0.996",
          "Id: 89<br />Predict: 0.985",
          "Id: 167<br />Predict: 1.617",
          "Id: 11<br />Predict: 1.0",
          "Id: 301<br />Predict: 0.979",
          "Id: 18<br />Predict: 1.001",
          "Id: 289<br />Predict: 0.996",
          "Id: 78<br />Predict: 0.998",
          "Id: 186<br />Predict: 2.533",
          "Id: 107<br />Predict: 1.048",
          "Id: 208<br />Predict: 2.37",
          "Id: 299<br />Predict: 1.001",
          "Id: 326<br />Predict: 0.998",
          "Id: 41<br />Predict: 0.99",
          "Id: 229<br />Predict: 1.011",
          "Id: 257<br />Predict: 1.008",
          "Id: 361<br />Predict: 1.996",
          "Id: 373<br />Predict: 0.971",
          "Id: 23<br />Predict: 1.025",
          "Id: 284<br />Predict: 1.004",
          "Id: 13<br />Predict: 0.934",
          "Id: 378<br />Predict: 0.996",
          "Id: 249<br />Predict: 0.953",
          "Id: 338<br />Predict: 2.053",
          "Id: 233<br />Predict: 0.989",
          "Id: 369<br />Predict: 0.891",
          "Id: 159<br />Predict: 2.292",
          "Id: 339<br />Predict: 2.439",
          "Id: 161<br />Predict: 2.191",
          "Id: 185<br />Predict: 2.331",
          "Id: 274<br />Predict: 1.008",
          "Id: 285<br />Predict: 1.0",
          "Id: 95<br />Predict: 0.995",
          "Id: 82<br />Predict: 0.955",
          "Id: 351<br />Predict: 1.088",
          "Id: 92<br />Predict: 1.015",
          "Id: 27<br />Predict: 1.003",
          "Id: 296<br />Predict: 0.999",
          "Id: 73<br />Predict: 1.001",
          "Id: 275<br />Predict: 0.989",
          "Id: 248<br />Predict: 1.002",
          "Id: 312<br />Predict: 1.007",
          "Id: 98<br />Predict: 1.135",
          "Id: 197<br />Predict: 3.068",
          "Id: 225<br />Predict: 0.946",
          "Id: 332<br />Predict: 1.004"
         ],
         "marker": {
          "color": [
           1.359,
           0.978,
           0.984,
           2.364,
           0.999,
           1.6,
           1.025,
           1.022,
           0.991,
           1.002,
           1.6,
           2.031,
           2.213,
           1.096,
           0.906,
           1.015,
           1.006,
           0.974,
           1.016,
           1.013,
           0.999,
           1.007,
           2.279,
           1.01,
           0.989,
           2.666,
           0.927,
           1.027,
           1.049,
           1.038,
           0.999,
           1.013,
           0.992,
           0.992,
           1.016,
           2.518,
           0.994,
           1.001,
           2.202,
           2.139,
           3.02,
           1.016,
           0.998,
           1.013,
           1.152,
           1.021,
           0.743,
           1.041,
           1.009,
           0.848,
           0.996,
           0.985,
           1.617,
           1,
           0.979,
           1.001,
           0.996,
           0.998,
           2.533,
           1.048,
           2.37,
           1.001,
           0.998,
           0.99,
           1.011,
           1.008,
           1.996,
           0.971,
           1.025,
           1.004,
           0.934,
           0.996,
           0.953,
           2.053,
           0.989,
           0.891,
           2.292,
           2.439,
           2.191,
           2.331,
           1.008,
           1,
           0.995,
           0.955,
           1.088,
           1.015,
           1.003,
           0.999,
           1.001,
           0.989,
           1.002,
           1.007,
           1.135,
           3.068,
           0.946,
           1.004
          ],
          "coloraxis": "coloraxis",
          "line": {
           "color": "white",
           "width": 0.8
          },
          "opacity": 0.8,
          "size": 10
         },
         "mode": "markers",
         "type": "scatter",
         "x": [
          100,
          94.44444444444444,
          91.83673469387756,
          100,
          100,
          2.380952380952381,
          100,
          100,
          100,
          99.6600566572238,
          4.395604395604396,
          1.7660044150110374,
          0,
          94.02985074626864,
          93.65079365079364,
          100,
          97.14285714285714,
          100,
          98.73417721518987,
          99.76119402985074,
          100,
          100,
          1.1904761904761905,
          100,
          99.86754966887418,
          0,
          92.45283018867924,
          95.04132231404958,
          94.87179487179488,
          88.57142857142857,
          99.88247392390188,
          100,
          95.83333333333331,
          99.65095986038396,
          96.03960396039604,
          0.8913649025069638,
          100,
          100,
          5.813953488372093,
          3.2719836400818,
          0,
          94.9367088607595,
          99.92306508693645,
          100,
          100,
          95.50561797752808,
          19.130434782608692,
          100,
          100,
          54.74576271186441,
          99.846484494934,
          100,
          0.5059523809523809,
          99.88045427375972,
          95.78947368421052,
          99.85704074338814,
          100,
          99.92306508693645,
          0,
          100,
          100,
          95.45454545454544,
          100,
          100,
          94.91525423728814,
          96.07843137254902,
          0.2258695979521156,
          98.41269841269842,
          100,
          100,
          99.88503104161876,
          96.66666666666669,
          98.46153846153848,
          0.6153846153846154,
          99.1150442477876,
          98.50746268656717,
          4.23572744014733,
          0,
          3.716216216216216,
          54.54545454545455,
          99.70414201183432,
          100,
          99.63898916967509,
          99.8791394730481,
          100,
          99.69897652016856,
          99.9267828378972,
          99.88556715777428,
          100,
          99.71098265895954,
          93.10344827586206,
          98.94736842105264,
          100,
          0,
          99.6832101372756,
          96.58119658119658
         ],
         "y": [
          -0.12746009106854939,
          -0.1297940444127306,
          -0.0962953369988986,
          -0.12649240262226533,
          -0.13616947320415512,
          0.6156090187025461,
          -0.11161168600139751,
          -0.13595710999903665,
          -0.13952810238735935,
          -0.11417578371648575,
          0.5821822433875101,
          0.4803466375404981,
          0.45132397908719546,
          -0.13714589512555836,
          -0.12480018052226984,
          -0.1338452767363883,
          -0.13198333078441832,
          -0.1347018217030028,
          -0.1371835763782296,
          -0.1121903320256131,
          -0.13451068885797518,
          -0.13506297976558537,
          0.502117284914956,
          -0.13526070063596796,
          -0.14306599079427668,
          0.5532176257526263,
          -0.12221508098933712,
          -0.13132327868237106,
          -0.14828045487281302,
          0.007688850636532979,
          -0.08452222444092433,
          -0.12425975719518029,
          -0.13450527484632865,
          -0.11311632581064426,
          -0.13744967021316512,
          0.5610545612600785,
          -0.14006880309364697,
          -0.13502073295330916,
          0.4531527600885196,
          0.4837038467458198,
          0.5313268824433424,
          -0.14070913001172689,
          -0.08519137721376997,
          -0.11156548628545937,
          -0.12229257172034508,
          -0.14147860109887722,
          -0.01566216421533187,
          -0.14007424991412712,
          -0.11215010465598298,
          0.046722037913520885,
          -0.11283828287799284,
          -0.08324523939477292,
          0.3690319038218787,
          -0.08450562935680354,
          -0.1344857796234502,
          -0.08434835536873306,
          -0.11246639376599926,
          -0.08398231345579485,
          0.5276486059034866,
          -0.12174986129864772,
          -0.12589666075851288,
          -0.13807634765510465,
          -0.1372875978676048,
          -0.11250167683519174,
          -0.1370502292478649,
          -0.14125069465442683,
          0.34221461441042056,
          -0.13493678274592064,
          -0.11304434898280963,
          -0.11229992178911571,
          -0.09189539399580852,
          -0.13192575353013225,
          -0.14326381142747616,
          0.46293276951686513,
          -0.13573548486529738,
          -0.13577902878389597,
          0.4160731316803608,
          0.4592415568609257,
          0.4439854381395432,
          -0.04420450850234871,
          -0.11519288640851534,
          -0.11259177820177955,
          -0.09607756735018194,
          -0.09233306466218727,
          -0.10938437429255012,
          -0.09214434604543445,
          -0.08334962682161885,
          -0.08446623384869088,
          -0.11262786935438418,
          -0.12335815506882347,
          -0.12134709106694806,
          -0.13904265842207086,
          -0.11958287211012367,
          0.5327215981652496,
          -0.12146089405010535,
          -0.13347473993333384
         ]
        }
       ],
       "layout": {
        "coloraxis": {
         "colorbar": {
          "title": {
           "text": "Predicted"
          }
         },
         "colorscale": [
          [
           0,
           "rgb(52, 55, 54)"
          ],
          [
           0.09850050348770278,
           "rgb(74, 99, 138)"
          ],
          [
           0.1064788073753405,
           "rgb(116, 153, 214)"
          ],
          [
           0.1096626887620809,
           "rgb(162, 188, 213)"
          ],
          [
           0.11089501507149659,
           "rgb(212, 234, 242)"
          ],
          [
           0.11366822666899862,
           "rgb(235, 216, 134)"
          ],
          [
           0.11690478216412871,
           "rgb(255, 204, 83)"
          ],
          [
           0.1273318423866036,
           "rgb(244, 192, 0)"
          ],
          [
           0.3684496849389463,
           "rgb(255, 166, 17)"
          ],
          [
           0.6633813066427217,
           "rgb(255, 123, 38)"
          ],
          [
           1,
           "rgb(255, 77, 7)"
          ]
         ]
        },
        "height": 600,
        "hovermode": "closest",
        "template": {
         "data": {
          "scatter": [
           {
            "type": "scatter"
           }
          ]
         }
        },
        "title": {
         "font": {
          "color": "rgb(50, 50, 50)",
          "family": "Arial",
          "size": 24
         },
         "text": "<b>%tcp_protocol</b> - Feature Contribution",
         "x": 0.5,
         "xanchor": "center",
         "y": 0.9,
         "yanchor": "middle"
        },
        "width": 900,
        "xaxis": {
         "automargin": true,
         "title": {
          "font": {
           "color": "rgb(50, 50, 50)",
           "family": "Arial Black",
           "size": 16
          },
          "text": "%tcp_protocol"
         }
        },
        "yaxis": {
         "automargin": true,
         "title": {
          "font": {
           "color": "rgb(50, 50, 50)",
           "family": "Arial Black",
           "size": 16
          },
          "text": "Contribution"
         }
        }
       }
      }
     },
     "metadata": {},
     "output_type": "display_data"
    }
   ],
   "source": [
    "xpl.plot.contribution_plot(\"%tcp_protocol\")"
   ]
  },
  {
   "cell_type": "code",
   "execution_count": 103,
   "metadata": {},
   "outputs": [
    {
     "name": "stdout",
     "output_type": "stream",
     "text": [
      "['session_time', '%tcp_protocol', '%udp_protocol', 'ul_data_volume', 'max_ul_volume', 'min_ul_volume', 'avg_ul_volume', 'std_ul_volume', '%ul_volume', 'dl_data_volume', 'max_dl_volume', 'min_dl_volume', 'avg_dl_volume', 'std_dl_volume', '%dl_volume', 'nb_uplink_packet', 'nb_downlink_packet', 'ul_packet', 'dl_packet', 'kB/s', 'nb_packet/s']\n"
     ]
    },
    {
     "data": {
      "application/vnd.plotly.v1+json": {
       "config": {
        "plotlyServerURL": "https://plot.ly"
       },
       "data": [
        {
         "customdata": [
          "<b>Hidden Negative Contributions</b>"
         ],
         "hovertemplate": "%{customdata}<br />Contribution: %{x:.4f}<extra></extra>",
         "marker": {
          "color": "rgba(52, 55, 54, 0.7)",
          "line": {
           "color": "rgba(27, 28, 28, 1.0)",
           "width": 0.5
          }
         },
         "orientation": "h",
         "showlegend": false,
         "type": "bar",
         "x": [
          -0.38889676643848897
         ],
         "y": [
          "<i>Hidden Negative Contributions</i>"
         ]
        },
        {
         "customdata": [
          "<b>Hidden Positive Contributions</b>"
         ],
         "hovertemplate": "%{customdata}<br />Contribution: %{x:.4f}<extra></extra>",
         "marker": {
          "color": "rgba(113, 101, 59, 1.0)",
          "line": {
           "color": "rgba(52, 55, 54, 0.8)",
           "width": 0.5
          }
         },
         "orientation": "h",
         "showlegend": false,
         "type": "bar",
         "x": [
          0.07303367695564829
         ],
         "y": [
          "<i>Hidden Positive Contributions</i>"
         ]
        }
       ],
       "layout": {
        "barmode": "group",
        "height": 550,
        "hovermode": "closest",
        "margin": {
         "b": 70,
         "l": 150,
         "r": 20,
         "t": 95
        },
        "template": {
         "data": {
          "scatter": [
           {
            "type": "scatter"
           }
          ]
         }
        },
        "title": {
         "font": {
          "color": "rgb(50, 50, 50)",
          "family": "Arial",
          "size": 24
         },
         "text": "Local Explanation - Id: <b>81</b><br><sup>Predict: <b>1.009</b></sup>",
         "x": 0.5,
         "xanchor": "center",
         "y": 0.9,
         "yanchor": "middle"
        },
        "width": 900,
        "xaxis": {
         "title": {
          "font": {
           "color": "rgb(50, 50, 50)",
           "family": "Arial Black",
           "size": 16
          },
          "text": "Contribution"
         }
        },
        "yaxis": {
         "automargin": true,
         "dtick": 1,
         "title": {
          "font": {
           "color": "rgb(50, 50, 50)",
           "family": "Arial Black",
           "size": 16
          }
         },
         "type": "category"
        }
       }
      }
     },
     "metadata": {},
     "output_type": "display_data"
    }
   ],
   "source": [
    "# Set of features in the dataset\n",
    "features = list(testing_dataset.columns)\n",
    "print(features[:-1])\n",
    "\n",
    "# Local explanation of a specific index ???\n",
    "#xpl.filter(max_contrib=21, threshold=100)\n",
    "xpl.plot.local_plot(index=81)"
   ]
  },
  {
   "cell_type": "code",
   "execution_count": 72,
   "metadata": {},
   "outputs": [
    {
     "ename": "ValueError",
     "evalue": "\n                Active Shapley values requires the ACV package,\n                which can be installed using 'pip install acv-exp'\n                ",
     "output_type": "error",
     "traceback": [
      "\u001b[0;31m---------------------------------------------------------------------------\u001b[0m",
      "\u001b[0;31mValueError\u001b[0m                                Traceback (most recent call last)",
      "Cell \u001b[0;32mIn [72], line 4\u001b[0m\n\u001b[1;32m      2\u001b[0m cns \u001b[38;5;241m=\u001b[39m Consistency()\n\u001b[1;32m      3\u001b[0m \u001b[38;5;66;03m# FAILED to install acv-exp ???\u001b[39;00m\n\u001b[0;32m----> 4\u001b[0m \u001b[43mcns\u001b[49m\u001b[38;5;241;43m.\u001b[39;49m\u001b[43mcompile\u001b[49m\u001b[43m(\u001b[49m\u001b[43mx\u001b[49m\u001b[38;5;241;43m=\u001b[39;49m\u001b[43mX_train\u001b[49m\u001b[43m,\u001b[49m\u001b[43m \u001b[49m\u001b[38;5;66;43;03m# Dataset for which we need explanations\u001b[39;49;00m\n\u001b[1;32m      5\u001b[0m \u001b[43m            \u001b[49m\u001b[43mmodel\u001b[49m\u001b[38;5;241;43m=\u001b[39;49m\u001b[43mregressor\u001b[49m\u001b[43m,\u001b[49m\u001b[43m \u001b[49m\u001b[38;5;66;43;03m# Model to explain\u001b[39;49;00m\n\u001b[1;32m      6\u001b[0m \u001b[43m            \u001b[49m\u001b[38;5;66;43;03m#preprocessing=encoder, # Optional\u001b[39;49;00m\n\u001b[1;32m      7\u001b[0m \u001b[43m            \u001b[49m\u001b[43m)\u001b[49m\n\u001b[1;32m      8\u001b[0m cns\u001b[38;5;241m.\u001b[39mconsistency_plot()\n",
      "File \u001b[0;32m/Library/Python/3.8/site-packages/shapash/explainer/consistency.py:69\u001b[0m, in \u001b[0;36mConsistency.compile\u001b[0;34m(self, x, model, preprocessing, contributions, methods)\u001b[0m\n\u001b[1;32m     67\u001b[0m     \u001b[39mif\u001b[39;00m (\u001b[39mself\u001b[39m\u001b[39m.\u001b[39mx \u001b[39mis\u001b[39;00m \u001b[39mNone\u001b[39;00m) \u001b[39mor\u001b[39;00m (model \u001b[39mis\u001b[39;00m \u001b[39mNone\u001b[39;00m):\n\u001b[1;32m     68\u001b[0m         \u001b[39mraise\u001b[39;00m \u001b[39mValueError\u001b[39;00m(\u001b[39m'\u001b[39m\u001b[39mIf no contributions are provided, parameters \u001b[39m\u001b[39m\"\u001b[39m\u001b[39mx\u001b[39m\u001b[39m\"\u001b[39m\u001b[39m and \u001b[39m\u001b[39m\"\u001b[39m\u001b[39mmodel\u001b[39m\u001b[39m\"\u001b[39m\u001b[39m must be defined\u001b[39m\u001b[39m'\u001b[39m)\n\u001b[0;32m---> 69\u001b[0m     contributions \u001b[39m=\u001b[39m \u001b[39mself\u001b[39;49m\u001b[39m.\u001b[39;49mcompute_contributions(\u001b[39mself\u001b[39;49m\u001b[39m.\u001b[39;49mx, model, methods, \u001b[39mself\u001b[39;49m\u001b[39m.\u001b[39;49mpreprocessing)\n\u001b[1;32m     70\u001b[0m \u001b[39melse\u001b[39;00m:\n\u001b[1;32m     71\u001b[0m     \u001b[39mif\u001b[39;00m \u001b[39mnot\u001b[39;00m \u001b[39misinstance\u001b[39m(contributions, \u001b[39mdict\u001b[39m):\n",
      "File \u001b[0;32m/Library/Python/3.8/site-packages/shapash/explainer/consistency.py:112\u001b[0m, in \u001b[0;36mConsistency.compute_contributions\u001b[0;34m(self, x, model, methods, preprocessing)\u001b[0m\n\u001b[1;32m    109\u001b[0m contributions \u001b[39m=\u001b[39m {}\n\u001b[1;32m    111\u001b[0m \u001b[39mfor\u001b[39;00m backend \u001b[39min\u001b[39;00m methods:\n\u001b[0;32m--> 112\u001b[0m     xpl \u001b[39m=\u001b[39m SmartExplainer(model\u001b[39m=\u001b[39;49mmodel, preprocessing\u001b[39m=\u001b[39;49mpreprocessing, backend\u001b[39m=\u001b[39;49mbackend)\n\u001b[1;32m    113\u001b[0m     xpl\u001b[39m.\u001b[39mcompile(x\u001b[39m=\u001b[39mx)\n\u001b[1;32m    114\u001b[0m     \u001b[39mif\u001b[39;00m xpl\u001b[39m.\u001b[39m_case \u001b[39m==\u001b[39m \u001b[39m\"\u001b[39m\u001b[39mclassification\u001b[39m\u001b[39m\"\u001b[39m \u001b[39mand\u001b[39;00m \u001b[39mlen\u001b[39m(xpl\u001b[39m.\u001b[39m_classes) \u001b[39m==\u001b[39m \u001b[39m2\u001b[39m:\n",
      "File \u001b[0;32m/Library/Python/3.8/site-packages/shapash/explainer/smart_explainer.py:196\u001b[0m, in \u001b[0;36mSmartExplainer.__init__\u001b[0;34m(self, model, backend, preprocessing, postprocessing, features_groups, features_dict, label_dict, title_story, palette_name, colors_dict, **kwargs)\u001b[0m\n\u001b[1;32m    194\u001b[0m \u001b[39mif\u001b[39;00m \u001b[39misinstance\u001b[39m(backend, \u001b[39mstr\u001b[39m):\n\u001b[1;32m    195\u001b[0m     backend_cls \u001b[39m=\u001b[39m get_backend_cls_from_name(backend)\n\u001b[0;32m--> 196\u001b[0m     \u001b[39mself\u001b[39m\u001b[39m.\u001b[39mbackend \u001b[39m=\u001b[39m backend_cls(\n\u001b[1;32m    197\u001b[0m         model\u001b[39m=\u001b[39;49m\u001b[39mself\u001b[39;49m\u001b[39m.\u001b[39;49mmodel, preprocessing\u001b[39m=\u001b[39;49mpreprocessing, \u001b[39m*\u001b[39;49m\u001b[39m*\u001b[39;49mkwargs)\n\u001b[1;32m    198\u001b[0m \u001b[39melif\u001b[39;00m \u001b[39misinstance\u001b[39m(backend, BaseBackend):\n\u001b[1;32m    199\u001b[0m     \u001b[39mself\u001b[39m\u001b[39m.\u001b[39mbackend \u001b[39m=\u001b[39m backend\n",
      "File \u001b[0;32m/Library/Python/3.8/site-packages/shapash/backend/acv_backend.py:33\u001b[0m, in \u001b[0;36mAcvBackend.__init__\u001b[0;34m(self, model, data, preprocessing, active_sdp, explainer_args, explainer_compute_args)\u001b[0m\n\u001b[1;32m     23\u001b[0m \u001b[39mdef\u001b[39;00m \u001b[39m__init__\u001b[39m(\n\u001b[1;32m     24\u001b[0m         \u001b[39mself\u001b[39m,\n\u001b[1;32m     25\u001b[0m         model,\n\u001b[0;32m   (...)\u001b[0m\n\u001b[1;32m     30\u001b[0m         explainer_compute_args\u001b[39m=\u001b[39m\u001b[39mNone\u001b[39;00m\n\u001b[1;32m     31\u001b[0m ):\n\u001b[1;32m     32\u001b[0m     \u001b[39mif\u001b[39;00m _is_acv_available \u001b[39mis\u001b[39;00m \u001b[39mFalse\u001b[39;00m:\n\u001b[0;32m---> 33\u001b[0m         \u001b[39mraise\u001b[39;00m \u001b[39mValueError\u001b[39;00m(\n\u001b[1;32m     34\u001b[0m             \u001b[39m\"\"\"\u001b[39;00m\n\u001b[1;32m     35\u001b[0m \u001b[39m            Active Shapley values requires the ACV package,\u001b[39;00m\n\u001b[1;32m     36\u001b[0m \u001b[39m            which can be installed using 'pip install acv-exp'\u001b[39;00m\n\u001b[1;32m     37\u001b[0m \u001b[39m            \"\"\"\u001b[39;00m\n\u001b[1;32m     38\u001b[0m         )\n\u001b[1;32m     39\u001b[0m     \u001b[39msuper\u001b[39m(AcvBackend, \u001b[39mself\u001b[39m)\u001b[39m.\u001b[39m\u001b[39m__init__\u001b[39m(model, preprocessing)\n\u001b[1;32m     40\u001b[0m     \u001b[39mself\u001b[39m\u001b[39m.\u001b[39mactive_sdp \u001b[39m=\u001b[39m active_sdp\n",
      "\u001b[0;31mValueError\u001b[0m: \n                Active Shapley values requires the ACV package,\n                which can be installed using 'pip install acv-exp'\n                "
     ]
    }
   ],
   "source": [
    "from shapash.explainer.consistency import Consistency\n",
    "cns = Consistency()\n",
    "# FAILED to install acv-exp ???\n",
    "cns.compile(x=X_train, # Dataset for which we need explanations\n",
    "            model=regressor, # Model to explain\n",
    "            #preprocessing=encoder, # Optional\n",
    "            )\n",
    "cns.consistency_plot()"
   ]
  },
  {
   "cell_type": "code",
   "execution_count": 96,
   "metadata": {},
   "outputs": [
    {
     "name": "stderr",
     "output_type": "stream",
     "text": [
      "INFO:papermill:Input Notebook:  /Library/Python/3.8/site-packages/shapash/report/base_report.ipynb\n",
      "INFO:papermill:Output Notebook: /var/folders/cf/mbh8svj17lq4pztkyd_rdsb40000gn/T/tmp6y__jjzk/base_report.ipynb\n",
      "WARNING:papermill.translators:Black is not installed, parameters wont be formatted\n"
     ]
    },
    {
     "data": {
      "application/vnd.jupyter.widget-view+json": {
       "model_id": "340863ceaf5c48e78ac82a4b4a82236b",
       "version_major": 2,
       "version_minor": 0
      },
      "text/plain": [
       "Executing:   0%|          | 0/15 [00:00<?, ?cell/s]"
      ]
     },
     "metadata": {},
     "output_type": "display_data"
    },
    {
     "name": "stderr",
     "output_type": "stream",
     "text": [
      "INFO:papermill:Executing notebook with kernel: python3\n"
     ]
    },
    {
     "ename": "PapermillExecutionError",
     "evalue": "\n---------------------------------------------------------------------------\nException encountered at \"In [8]\":\n---------------------------------------------------------------------------\nValueError                                Traceback (most recent call last)\nCell In [8], line 1\n----> 1 report.display_dataset_analysis()\n\nFile /Library/Python/3.8/site-packages/shapash/report/project_report.py:284, in ProjectReport.display_dataset_analysis(self, global_analysis, univariate_analysis, target_analysis, multivariate_analysis)\n    282 if multivariate_analysis:\n    283     print_md(\"### Multivariate analysis\")\n--> 284     fig_corr = self.explainer.plot.correlations(\n    285         self.df_train_test,\n    286         facet_col='data_train_test',\n    287         max_features=20,\n    288         width=900 if len(self.df_train_test['data_train_test'].unique()) > 1 else 500,\n    289         height=500,\n    290     )\n    291     print_html(plotly.io.to_html(fig_corr))\n    292 print_md('---')\n\nFile /Library/Python/3.8/site-packages/shapash/explainer/smart_plotter.py:2285, in SmartPlotter.correlations(self, df, max_features, features_to_hide, facet_col, how, width, height, degree, decimals, file_name, auto_open)\n   2283 if len(list_features) == 0:\n   2284     top_features = compute_top_correlations_features(corr=corr, max_features=max_features)\n-> 2285     corr = cluster_corr(corr.loc[top_features, top_features], degree=degree)\n   2286     list_features = list(corr.columns)\n   2288 fig.add_trace(\n   2289     go.Heatmap(\n   2290         z=corr.loc[list_features, list_features].round(decimals).values,\n   (...)\n   2297         hovertemplate=hovertemplate,\n   2298     ), row=1, col=i+1)\n\nFile /Library/Python/3.8/site-packages/shapash/explainer/smart_plotter.py:2233, in SmartPlotter.correlations.<locals>.cluster_corr(corr, degree, inplace)\n   2230     return corr\n   2232 pairwise_distances = sch.distance.pdist(corr**degree)\n-> 2233 linkage = sch.linkage(pairwise_distances, method='complete')\n   2234 cluster_distance_threshold = pairwise_distances.max()/2\n   2235 idx_to_cluster_array = sch.fcluster(linkage, cluster_distance_threshold, criterion='distance')\n\nFile /Library/Python/3.8/site-packages/scipy/cluster/hierarchy.py:1065, in linkage(y, method, metric, optimal_ordering)\n   1062     raise ValueError(\"`y` must be 1 or 2 dimensional.\")\n   1064 if not np.all(np.isfinite(y)):\n-> 1065     raise ValueError(\"The condensed distance matrix must contain only \"\n   1066                      \"finite values.\")\n   1068 n = int(distance.num_obs_y(y))\n   1069 method_code = _LINKAGE_METHODS[method]\n\nValueError: The condensed distance matrix must contain only finite values.\n",
     "output_type": "error",
     "traceback": [
      "\u001b[0;31m---------------------------------------------------------------------------\u001b[0m",
      "\u001b[0;31mPapermillExecutionError\u001b[0m                   Traceback (most recent call last)",
      "Cell \u001b[0;32mIn [96], line 3\u001b[0m\n\u001b[1;32m      1\u001b[0m \u001b[38;5;66;03m# Need to install some packages: nbconvert, papermill, notebook\u001b[39;00m\n\u001b[1;32m      2\u001b[0m \u001b[38;5;66;03m# FAILED to run ???\u001b[39;00m\n\u001b[0;32m----> 3\u001b[0m \u001b[43mxpl\u001b[49m\u001b[38;5;241;43m.\u001b[39;49m\u001b[43mgenerate_report\u001b[49m\u001b[43m(\u001b[49m\n\u001b[1;32m      4\u001b[0m \u001b[43m    \u001b[49m\u001b[43moutput_file\u001b[49m\u001b[38;5;241;43m=\u001b[39;49m\u001b[38;5;124;43m'\u001b[39;49m\u001b[38;5;124;43mreport.html\u001b[39;49m\u001b[38;5;124;43m'\u001b[39;49m\u001b[43m,\u001b[49m\n\u001b[1;32m      5\u001b[0m \u001b[43m    \u001b[49m\u001b[43mproject_info_file\u001b[49m\u001b[38;5;241;43m=\u001b[39;49m\u001b[38;5;124;43m'\u001b[39;49m\u001b[38;5;124;43mshapash_project_info.yml\u001b[39;49m\u001b[38;5;124;43m'\u001b[39;49m\u001b[43m,\u001b[49m\n\u001b[1;32m      6\u001b[0m \u001b[43m    \u001b[49m\u001b[43mx_train\u001b[49m\u001b[38;5;241;43m=\u001b[39;49m\u001b[43mX_train\u001b[49m\u001b[43m,\u001b[49m\n\u001b[1;32m      7\u001b[0m \u001b[43m    \u001b[49m\u001b[43my_train\u001b[49m\u001b[38;5;241;43m=\u001b[39;49m\u001b[43mY_train\u001b[49m\u001b[43m,\u001b[49m\n\u001b[1;32m      8\u001b[0m \u001b[43m    \u001b[49m\u001b[43my_test\u001b[49m\u001b[38;5;241;43m=\u001b[39;49m\u001b[43mY_test\u001b[49m\u001b[43m,\u001b[49m\n\u001b[1;32m      9\u001b[0m \u001b[43m    \u001b[49m\u001b[43mtitle_story\u001b[49m\u001b[38;5;241;43m=\u001b[39;49m\u001b[38;5;124;43m\"\u001b[39;49m\u001b[38;5;124;43mUser Network Activities Classification\u001b[39;49m\u001b[38;5;124;43m\"\u001b[39;49m\u001b[43m,\u001b[49m\n\u001b[1;32m     10\u001b[0m \u001b[43m    \u001b[49m\u001b[43mtitle_description\u001b[49m\u001b[38;5;241;43m=\u001b[39;49m\u001b[38;5;124;43m\"\u001b[39;49m\u001b[38;5;124;43mThis document is a data science report of the user network activities classification.\u001b[39;49m\u001b[38;5;124;43m\"\u001b[39;49m\u001b[43m,\u001b[49m\n\u001b[1;32m     11\u001b[0m \u001b[43m    \u001b[49m\u001b[43mmetrics\u001b[49m\u001b[38;5;241;43m=\u001b[39;49m\u001b[43m[\u001b[49m\n\u001b[1;32m     12\u001b[0m \u001b[43m        \u001b[49m\u001b[43m{\u001b[49m\n\u001b[1;32m     13\u001b[0m \u001b[43m            \u001b[49m\u001b[38;5;124;43m'\u001b[39;49m\u001b[38;5;124;43mpath\u001b[39;49m\u001b[38;5;124;43m'\u001b[39;49m\u001b[43m:\u001b[49m\u001b[43m \u001b[49m\u001b[38;5;124;43m'\u001b[39;49m\u001b[38;5;124;43msklearn.metrics.mean_squared_error\u001b[39;49m\u001b[38;5;124;43m'\u001b[39;49m\u001b[43m,\u001b[49m\n\u001b[1;32m     14\u001b[0m \u001b[43m            \u001b[49m\u001b[38;5;124;43m'\u001b[39;49m\u001b[38;5;124;43mname\u001b[39;49m\u001b[38;5;124;43m'\u001b[39;49m\u001b[43m:\u001b[49m\u001b[43m \u001b[49m\u001b[38;5;124;43m'\u001b[39;49m\u001b[38;5;124;43mMean squared error\u001b[39;49m\u001b[38;5;124;43m'\u001b[39;49m\u001b[43m,\u001b[49m\u001b[43m  \u001b[49m\u001b[38;5;66;43;03m# Optional : name that will be displayed next to the metric\u001b[39;49;00m\n\u001b[1;32m     15\u001b[0m \u001b[43m        \u001b[49m\u001b[43m}\u001b[49m\u001b[43m,\u001b[49m\n\u001b[1;32m     16\u001b[0m \u001b[43m    \u001b[49m\u001b[43m]\u001b[49m\n\u001b[1;32m     17\u001b[0m \u001b[43m)\u001b[49m\n",
      "File \u001b[0;32m/Library/Python/3.8/site-packages/shapash/explainer/smart_explainer.py:1225\u001b[0m, in \u001b[0;36mSmartExplainer.generate_report\u001b[0;34m(self, output_file, project_info_file, x_train, y_train, y_test, title_story, title_description, metrics, working_dir, notebook_path, kernel_name)\u001b[0m\n\u001b[1;32m   1223\u001b[0m \u001b[39mif\u001b[39;00m rm_working_dir:\n\u001b[1;32m   1224\u001b[0m     shutil\u001b[39m.\u001b[39mrmtree(working_dir)\n\u001b[0;32m-> 1225\u001b[0m \u001b[39mraise\u001b[39;00m e\n",
      "File \u001b[0;32m/Library/Python/3.8/site-packages/shapash/explainer/smart_explainer.py:1202\u001b[0m, in \u001b[0;36mSmartExplainer.generate_report\u001b[0;34m(self, output_file, project_info_file, x_train, y_train, y_test, title_story, title_description, metrics, working_dir, notebook_path, kernel_name)\u001b[0m\n\u001b[1;32m   1198\u001b[0m     \u001b[39mraise\u001b[39;00m \u001b[39mAssertionError\u001b[39;00m(\u001b[39m\"\u001b[39m\u001b[39mExplainer object was not compiled. Please compile the explainer \u001b[39m\u001b[39m\"\u001b[39m\n\u001b[1;32m   1199\u001b[0m                          \u001b[39m\"\u001b[39m\u001b[39mobject using .compile(...) method before generating the report.\u001b[39m\u001b[39m\"\u001b[39m)\n\u001b[1;32m   1201\u001b[0m \u001b[39mtry\u001b[39;00m:\n\u001b[0;32m-> 1202\u001b[0m     execute_report(\n\u001b[1;32m   1203\u001b[0m         working_dir\u001b[39m=\u001b[39;49mworking_dir,\n\u001b[1;32m   1204\u001b[0m         explainer\u001b[39m=\u001b[39;49m\u001b[39mself\u001b[39;49m,\n\u001b[1;32m   1205\u001b[0m         project_info_file\u001b[39m=\u001b[39;49mproject_info_file,\n\u001b[1;32m   1206\u001b[0m         x_train\u001b[39m=\u001b[39;49mx_train,\n\u001b[1;32m   1207\u001b[0m         y_train\u001b[39m=\u001b[39;49my_train,\n\u001b[1;32m   1208\u001b[0m         y_test\u001b[39m=\u001b[39;49my_test,\n\u001b[1;32m   1209\u001b[0m         config\u001b[39m=\u001b[39;49m\u001b[39mdict\u001b[39;49m(\n\u001b[1;32m   1210\u001b[0m             title_story\u001b[39m=\u001b[39;49mtitle_story,\n\u001b[1;32m   1211\u001b[0m             title_description\u001b[39m=\u001b[39;49mtitle_description,\n\u001b[1;32m   1212\u001b[0m             metrics\u001b[39m=\u001b[39;49mmetrics,\n\u001b[1;32m   1213\u001b[0m         ),\n\u001b[1;32m   1214\u001b[0m         notebook_path\u001b[39m=\u001b[39;49mnotebook_path,\n\u001b[1;32m   1215\u001b[0m         kernel_name\u001b[39m=\u001b[39;49mkernel_name\n\u001b[1;32m   1216\u001b[0m     )\n\u001b[1;32m   1217\u001b[0m     export_and_save_report(working_dir\u001b[39m=\u001b[39mworking_dir, output_file\u001b[39m=\u001b[39moutput_file)\n\u001b[1;32m   1219\u001b[0m     \u001b[39mif\u001b[39;00m rm_working_dir:\n",
      "File \u001b[0;32m/Library/Python/3.8/site-packages/shapash/report/generation.py:64\u001b[0m, in \u001b[0;36mexecute_report\u001b[0;34m(working_dir, explainer, project_info_file, x_train, y_train, y_test, config, notebook_path, kernel_name)\u001b[0m\n\u001b[1;32m     61\u001b[0m \u001b[39mif\u001b[39;00m notebook_path \u001b[39mis\u001b[39;00m \u001b[39mNone\u001b[39;00m \u001b[39mor\u001b[39;00m notebook_path \u001b[39m==\u001b[39m \u001b[39m'\u001b[39m\u001b[39m'\u001b[39m:\n\u001b[1;32m     62\u001b[0m     notebook_path \u001b[39m=\u001b[39m os\u001b[39m.\u001b[39mpath\u001b[39m.\u001b[39mjoin(root_path, \u001b[39m'\u001b[39m\u001b[39mshapash\u001b[39m\u001b[39m'\u001b[39m, \u001b[39m'\u001b[39m\u001b[39mreport\u001b[39m\u001b[39m'\u001b[39m, \u001b[39m'\u001b[39m\u001b[39mbase_report.ipynb\u001b[39m\u001b[39m'\u001b[39m)\n\u001b[0;32m---> 64\u001b[0m pm\u001b[39m.\u001b[39;49mexecute_notebook(\n\u001b[1;32m     65\u001b[0m     notebook_path,\n\u001b[1;32m     66\u001b[0m     os\u001b[39m.\u001b[39;49mpath\u001b[39m.\u001b[39;49mjoin(working_dir, \u001b[39m'\u001b[39;49m\u001b[39mbase_report.ipynb\u001b[39;49m\u001b[39m'\u001b[39;49m),\n\u001b[1;32m     67\u001b[0m     parameters\u001b[39m=\u001b[39;49m\u001b[39mdict\u001b[39;49m(\n\u001b[1;32m     68\u001b[0m         dir_path\u001b[39m=\u001b[39;49mworking_dir,\n\u001b[1;32m     69\u001b[0m         project_info_file\u001b[39m=\u001b[39;49mproject_info_file,\n\u001b[1;32m     70\u001b[0m         config\u001b[39m=\u001b[39;49mconfig\n\u001b[1;32m     71\u001b[0m     ),\n\u001b[1;32m     72\u001b[0m     kernel_name\u001b[39m=\u001b[39;49mkernel_name\n\u001b[1;32m     73\u001b[0m )\n",
      "File \u001b[0;32m/Library/Python/3.8/site-packages/papermill/execute.py:128\u001b[0m, in \u001b[0;36mexecute_notebook\u001b[0;34m(input_path, output_path, parameters, engine_name, request_save_on_cell_execute, prepare_only, kernel_name, language, progress_bar, log_output, stdout_file, stderr_file, start_timeout, report_mode, cwd, **engine_kwargs)\u001b[0m\n\u001b[1;32m    113\u001b[0m         nb \u001b[39m=\u001b[39m papermill_engines\u001b[39m.\u001b[39mexecute_notebook_with_engine(\n\u001b[1;32m    114\u001b[0m             engine_name,\n\u001b[1;32m    115\u001b[0m             nb,\n\u001b[0;32m   (...)\u001b[0m\n\u001b[1;32m    124\u001b[0m             \u001b[39m*\u001b[39m\u001b[39m*\u001b[39mengine_kwargs\n\u001b[1;32m    125\u001b[0m         )\n\u001b[1;32m    127\u001b[0m     \u001b[39m# Check for errors first (it saves on error before raising)\u001b[39;00m\n\u001b[0;32m--> 128\u001b[0m     raise_for_execution_errors(nb, output_path)\n\u001b[1;32m    130\u001b[0m \u001b[39m# Write final output in case the engine didn't write it on cell completion.\u001b[39;00m\n\u001b[1;32m    131\u001b[0m write_ipynb(nb, output_path)\n",
      "File \u001b[0;32m/Library/Python/3.8/site-packages/papermill/execute.py:232\u001b[0m, in \u001b[0;36mraise_for_execution_errors\u001b[0;34m(nb, output_path)\u001b[0m\n\u001b[1;32m    229\u001b[0m nb\u001b[39m.\u001b[39mcells\u001b[39m.\u001b[39minsert(\u001b[39m0\u001b[39m, error_msg_cell)\n\u001b[1;32m    231\u001b[0m write_ipynb(nb, output_path)\n\u001b[0;32m--> 232\u001b[0m \u001b[39mraise\u001b[39;00m error\n",
      "\u001b[0;31mPapermillExecutionError\u001b[0m: \n---------------------------------------------------------------------------\nException encountered at \"In [8]\":\n---------------------------------------------------------------------------\nValueError                                Traceback (most recent call last)\nCell In [8], line 1\n----> 1 report.display_dataset_analysis()\n\nFile /Library/Python/3.8/site-packages/shapash/report/project_report.py:284, in ProjectReport.display_dataset_analysis(self, global_analysis, univariate_analysis, target_analysis, multivariate_analysis)\n    282 if multivariate_analysis:\n    283     print_md(\"### Multivariate analysis\")\n--> 284     fig_corr = self.explainer.plot.correlations(\n    285         self.df_train_test,\n    286         facet_col='data_train_test',\n    287         max_features=20,\n    288         width=900 if len(self.df_train_test['data_train_test'].unique()) > 1 else 500,\n    289         height=500,\n    290     )\n    291     print_html(plotly.io.to_html(fig_corr))\n    292 print_md('---')\n\nFile /Library/Python/3.8/site-packages/shapash/explainer/smart_plotter.py:2285, in SmartPlotter.correlations(self, df, max_features, features_to_hide, facet_col, how, width, height, degree, decimals, file_name, auto_open)\n   2283 if len(list_features) == 0:\n   2284     top_features = compute_top_correlations_features(corr=corr, max_features=max_features)\n-> 2285     corr = cluster_corr(corr.loc[top_features, top_features], degree=degree)\n   2286     list_features = list(corr.columns)\n   2288 fig.add_trace(\n   2289     go.Heatmap(\n   2290         z=corr.loc[list_features, list_features].round(decimals).values,\n   (...)\n   2297         hovertemplate=hovertemplate,\n   2298     ), row=1, col=i+1)\n\nFile /Library/Python/3.8/site-packages/shapash/explainer/smart_plotter.py:2233, in SmartPlotter.correlations.<locals>.cluster_corr(corr, degree, inplace)\n   2230     return corr\n   2232 pairwise_distances = sch.distance.pdist(corr**degree)\n-> 2233 linkage = sch.linkage(pairwise_distances, method='complete')\n   2234 cluster_distance_threshold = pairwise_distances.max()/2\n   2235 idx_to_cluster_array = sch.fcluster(linkage, cluster_distance_threshold, criterion='distance')\n\nFile /Library/Python/3.8/site-packages/scipy/cluster/hierarchy.py:1065, in linkage(y, method, metric, optimal_ordering)\n   1062     raise ValueError(\"`y` must be 1 or 2 dimensional.\")\n   1064 if not np.all(np.isfinite(y)):\n-> 1065     raise ValueError(\"The condensed distance matrix must contain only \"\n   1066                      \"finite values.\")\n   1068 n = int(distance.num_obs_y(y))\n   1069 method_code = _LINKAGE_METHODS[method]\n\nValueError: The condensed distance matrix must contain only finite values.\n"
     ]
    }
   ],
   "source": [
    "# Need to install some packages: nbconvert, papermill, notebook\n",
    "# FAILED to run ???\n",
    "xpl.generate_report(\n",
    "    output_file='report.html',\n",
    "    project_info_file='shapash_project_info.yml',\n",
    "    x_train=X_train,\n",
    "    y_train=Y_train,\n",
    "    y_test=Y_test,\n",
    "    title_story=\"User Network Activities Classification\",\n",
    "    title_description=\"This document is a data science report of the user network activities classification.\",\n",
    "    metrics=[\n",
    "        {\n",
    "            'path': 'sklearn.metrics.mean_squared_error',\n",
    "            'name': 'Mean squared error',  # Optional : name that will be displayed next to the metric\n",
    "        },\n",
    "    ]\n",
    ")"
   ]
  }
 ],
 "metadata": {
  "kernelspec": {
   "display_name": "Python 3 (ipykernel)",
   "language": "python",
   "name": "python3"
  },
  "language_info": {
   "codemirror_mode": {
    "name": "ipython",
    "version": 3
   },
   "file_extension": ".py",
   "mimetype": "text/x-python",
   "name": "python",
   "nbconvert_exporter": "python",
   "pygments_lexer": "ipython3",
   "version": "3.9.7"
  },
  "vscode": {
   "interpreter": {
    "hash": "31f2aee4e71d21fbe5cf8b01ff0e069b9275f58929596ceb00d14d90e3e16cd6"
   }
  }
 },
 "nbformat": 4,
 "nbformat_minor": 2
}
