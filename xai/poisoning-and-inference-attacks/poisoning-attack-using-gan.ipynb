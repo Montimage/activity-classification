{
 "cells": [
  {
   "attachments": {},
   "cell_type": "markdown",
   "metadata": {},
   "source": [
    "# Activities Classification with Explainable AI (XAI)\n",
    "\n",
    "<!-- ![title](Figure_2.png) -->"
   ]
  },
  {
   "cell_type": "code",
   "execution_count": 46,
   "metadata": {},
   "outputs": [],
   "source": [
    "import numpy as np\n",
    "import pandas as pd\n",
    "from tensorflow.keras.models import Sequential\n",
    "from tensorflow.keras.layers import Dense\n",
    "from sklearn.preprocessing import StandardScaler\n",
    "import random"
   ]
  },
  {
   "attachments": {},
   "cell_type": "markdown",
   "metadata": {},
   "source": [
    "## Opening the files\n",
    "Load the training/testing dataset from csv files\n",
    "first column: ID\n",
    "last column: the expected output, for example: 1, 2, 3, corresponds to one of 3 activities\n",
    "+ 1: web browsing/file downloading\n",
    "+ 2: online communication, like video call\n",
    "+ 3: online video watching"
   ]
  },
  {
   "cell_type": "code",
   "execution_count": 35,
   "metadata": {},
   "outputs": [
    {
     "name": "stdout",
     "output_type": "stream",
     "text": [
      "The shape of the training dataset: (279, 22)\n",
      "The shape of the testing dataset: (103, 22)\n",
      "The shape of the testing dataset: (4999, 22)\n"
     ]
    },
    {
     "data": {
      "text/html": [
       "<div>\n",
       "<style scoped>\n",
       "    .dataframe tbody tr th:only-of-type {\n",
       "        vertical-align: middle;\n",
       "    }\n",
       "\n",
       "    .dataframe tbody tr th {\n",
       "        vertical-align: top;\n",
       "    }\n",
       "\n",
       "    .dataframe thead th {\n",
       "        text-align: right;\n",
       "    }\n",
       "</style>\n",
       "<table border=\"1\" class=\"dataframe\">\n",
       "  <thead>\n",
       "    <tr style=\"text-align: right;\">\n",
       "      <th></th>\n",
       "      <th>session_time</th>\n",
       "      <th>%tcp_protocol</th>\n",
       "      <th>%udp_protocol</th>\n",
       "      <th>ul_data_volume</th>\n",
       "      <th>max_ul_volume</th>\n",
       "      <th>min_ul_volume</th>\n",
       "      <th>avg_ul_volume</th>\n",
       "      <th>std_ul_volume</th>\n",
       "      <th>%ul_volume</th>\n",
       "      <th>dl_data_volume</th>\n",
       "      <th>...</th>\n",
       "      <th>avg_dl_volume</th>\n",
       "      <th>std_dl_volume</th>\n",
       "      <th>%dl_volume</th>\n",
       "      <th>nb_uplink_packet</th>\n",
       "      <th>nb_downlink_packet</th>\n",
       "      <th>ul_packet</th>\n",
       "      <th>dl_packet</th>\n",
       "      <th>kB/s</th>\n",
       "      <th>nb_packet/s</th>\n",
       "      <th>output</th>\n",
       "    </tr>\n",
       "  </thead>\n",
       "  <tbody>\n",
       "    <tr>\n",
       "      <th>0</th>\n",
       "      <td>4.999674</td>\n",
       "      <td>100.000000</td>\n",
       "      <td>0.000000</td>\n",
       "      <td>99090</td>\n",
       "      <td>54</td>\n",
       "      <td>54</td>\n",
       "      <td>54.000000</td>\n",
       "      <td>0.000000</td>\n",
       "      <td>1.652834</td>\n",
       "      <td>5896066</td>\n",
       "      <td>...</td>\n",
       "      <td>1564.358185</td>\n",
       "      <td>313.304936</td>\n",
       "      <td>98.347166</td>\n",
       "      <td>1835</td>\n",
       "      <td>3769</td>\n",
       "      <td>32.744468</td>\n",
       "      <td>67.255532</td>\n",
       "      <td>1199.109362</td>\n",
       "      <td>1120.873063</td>\n",
       "      <td>1</td>\n",
       "    </tr>\n",
       "    <tr>\n",
       "      <th>1</th>\n",
       "      <td>0.892125</td>\n",
       "      <td>100.000000</td>\n",
       "      <td>0.000000</td>\n",
       "      <td>32184</td>\n",
       "      <td>54</td>\n",
       "      <td>54</td>\n",
       "      <td>54.000000</td>\n",
       "      <td>0.000000</td>\n",
       "      <td>1.673617</td>\n",
       "      <td>1890837</td>\n",
       "      <td>...</td>\n",
       "      <td>1594.297639</td>\n",
       "      <td>601.903863</td>\n",
       "      <td>98.326383</td>\n",
       "      <td>596</td>\n",
       "      <td>1186</td>\n",
       "      <td>33.445567</td>\n",
       "      <td>66.554433</td>\n",
       "      <td>2155.550758</td>\n",
       "      <td>1997.477642</td>\n",
       "      <td>1</td>\n",
       "    </tr>\n",
       "    <tr>\n",
       "      <th>2</th>\n",
       "      <td>3.412767</td>\n",
       "      <td>99.857265</td>\n",
       "      <td>0.142735</td>\n",
       "      <td>77133</td>\n",
       "      <td>471</td>\n",
       "      <td>54</td>\n",
       "      <td>55.213314</td>\n",
       "      <td>18.696881</td>\n",
       "      <td>2.276791</td>\n",
       "      <td>3310662</td>\n",
       "      <td>...</td>\n",
       "      <td>1571.268154</td>\n",
       "      <td>562.653689</td>\n",
       "      <td>97.723209</td>\n",
       "      <td>1397</td>\n",
       "      <td>2107</td>\n",
       "      <td>39.868721</td>\n",
       "      <td>60.131279</td>\n",
       "      <td>992.682790</td>\n",
       "      <td>1026.732873</td>\n",
       "      <td>1</td>\n",
       "    </tr>\n",
       "    <tr>\n",
       "      <th>3</th>\n",
       "      <td>4.999285</td>\n",
       "      <td>99.888471</td>\n",
       "      <td>0.111529</td>\n",
       "      <td>142985</td>\n",
       "      <td>471</td>\n",
       "      <td>54</td>\n",
       "      <td>54.699694</td>\n",
       "      <td>14.495354</td>\n",
       "      <td>1.925924</td>\n",
       "      <td>7281243</td>\n",
       "      <td>...</td>\n",
       "      <td>1597.114060</td>\n",
       "      <td>649.341567</td>\n",
       "      <td>98.074076</td>\n",
       "      <td>2614</td>\n",
       "      <td>4559</td>\n",
       "      <td>36.442214</td>\n",
       "      <td>63.557786</td>\n",
       "      <td>1485.057968</td>\n",
       "      <td>1434.805182</td>\n",
       "      <td>1</td>\n",
       "    </tr>\n",
       "    <tr>\n",
       "      <th>4</th>\n",
       "      <td>1.682172</td>\n",
       "      <td>100.000000</td>\n",
       "      <td>0.000000</td>\n",
       "      <td>60534</td>\n",
       "      <td>54</td>\n",
       "      <td>54</td>\n",
       "      <td>54.000000</td>\n",
       "      <td>0.000000</td>\n",
       "      <td>1.571208</td>\n",
       "      <td>3792170</td>\n",
       "      <td>...</td>\n",
       "      <td>1645.907118</td>\n",
       "      <td>1250.277675</td>\n",
       "      <td>98.428792</td>\n",
       "      <td>1121</td>\n",
       "      <td>2304</td>\n",
       "      <td>32.729927</td>\n",
       "      <td>67.270073</td>\n",
       "      <td>2290.315058</td>\n",
       "      <td>2036.058071</td>\n",
       "      <td>1</td>\n",
       "    </tr>\n",
       "  </tbody>\n",
       "</table>\n",
       "<p>5 rows × 22 columns</p>\n",
       "</div>"
      ],
      "text/plain": [
       "   session_time  %tcp_protocol  %udp_protocol  ul_data_volume  max_ul_volume  \\\n",
       "0      4.999674     100.000000       0.000000           99090             54   \n",
       "1      0.892125     100.000000       0.000000           32184             54   \n",
       "2      3.412767      99.857265       0.142735           77133            471   \n",
       "3      4.999285      99.888471       0.111529          142985            471   \n",
       "4      1.682172     100.000000       0.000000           60534             54   \n",
       "\n",
       "   min_ul_volume  avg_ul_volume  std_ul_volume  %ul_volume  dl_data_volume  \\\n",
       "0             54      54.000000       0.000000    1.652834         5896066   \n",
       "1             54      54.000000       0.000000    1.673617         1890837   \n",
       "2             54      55.213314      18.696881    2.276791         3310662   \n",
       "3             54      54.699694      14.495354    1.925924         7281243   \n",
       "4             54      54.000000       0.000000    1.571208         3792170   \n",
       "\n",
       "   ...  avg_dl_volume  std_dl_volume  %dl_volume  nb_uplink_packet  \\\n",
       "0  ...    1564.358185     313.304936   98.347166              1835   \n",
       "1  ...    1594.297639     601.903863   98.326383               596   \n",
       "2  ...    1571.268154     562.653689   97.723209              1397   \n",
       "3  ...    1597.114060     649.341567   98.074076              2614   \n",
       "4  ...    1645.907118    1250.277675   98.428792              1121   \n",
       "\n",
       "   nb_downlink_packet  ul_packet  dl_packet         kB/s  nb_packet/s  output  \n",
       "0                3769  32.744468  67.255532  1199.109362  1120.873063       1  \n",
       "1                1186  33.445567  66.554433  2155.550758  1997.477642       1  \n",
       "2                2107  39.868721  60.131279   992.682790  1026.732873       1  \n",
       "3                4559  36.442214  63.557786  1485.057968  1434.805182       1  \n",
       "4                2304  32.729927  67.270073  2290.315058  2036.058071       1  \n",
       "\n",
       "[5 rows x 22 columns]"
      ]
     },
     "execution_count": 35,
     "metadata": {},
     "output_type": "execute_result"
    }
   ],
   "source": [
    "# Load the training/testing dataset from csv files\n",
    "training_dataset = pd.read_csv(\"../../output_train.csv\", header=0, usecols=[*range(1,23)], sep=\";\")\n",
    "testing_dataset = pd.read_csv(\"../../output_test.csv\", header=0, usecols=[*range(1,23)], sep=\";\")\n",
    "\n",
    "poison_dataset = pd.read_csv(\"../../poison/generated-5000.csv\")\n",
    "\n",
    "# Remove missing values\n",
    "training_dataset.dropna(axis = 0, inplace = True)\n",
    "testing_dataset.dropna(axis = 0, inplace = True)\n",
    "poison_dataset.dropna(axis = 0, inplace=True)\n",
    "\n",
    "print(\"The shape of the training dataset: \" + str(training_dataset.shape))\n",
    "print(\"The shape of the testing dataset: \" + str(testing_dataset.shape))\n",
    "print(\"The shape of the testing dataset: \" + str(poison_dataset.shape))\n",
    "\n",
    "training_dataset.head()"
   ]
  },
  {
   "cell_type": "code",
   "execution_count": 36,
   "metadata": {},
   "outputs": [
    {
     "name": "stdout",
     "output_type": "stream",
     "text": [
      "['session_time', '%tcp_protocol', '%udp_protocol', 'ul_data_volume', 'max_ul_volume', 'min_ul_volume', 'avg_ul_volume', 'std_ul_volume', '%ul_volume', 'dl_data_volume', 'max_dl_volume', 'min_dl_volume', 'avg_dl_volume', 'std_dl_volume', '%dl_volume', 'nb_uplink_packet', 'nb_downlink_packet', 'ul_packet', 'dl_packet', 'kB/s', 'nb_packet/s']\n"
     ]
    }
   ],
   "source": [
    "# Set of features in the dataset\n",
    "features = list(testing_dataset.columns)\n",
    "print(features[:-1])"
   ]
  },
  {
   "cell_type": "code",
   "execution_count": 37,
   "metadata": {},
   "outputs": [
    {
     "name": "stdout",
     "output_type": "stream",
     "text": [
      "Preprocessed inputs of the training dataset: [[ 1.24949172  0.59231316 -0.58844871 ...  0.54501086  0.2208743\n",
      "   0.62843195]\n",
      " [-0.8505485   0.59231316 -0.58844871 ...  0.4955518   0.97523057\n",
      "   1.92817113]\n",
      " [ 0.43816388  0.5886868  -0.58480418 ...  0.04242978  0.0580633\n",
      "   0.48885055]\n",
      " ...\n",
      " [-1.2056687   0.34743347 -0.34234218 ... -0.71477922 -0.56070378\n",
      "  -0.41047599]\n",
      " [-0.89460259  0.58409106 -0.58018542 ...  0.10394211  0.44768975\n",
      "   1.24034932]\n",
      " [-0.98176026  0.59231316 -0.58844871 ... -0.62260254  0.43111073\n",
      "  -0.53651579]]\n",
      "Preprocessed outputs of the training dataset: [[1 0 0]\n",
      " [1 0 0]\n",
      " [1 0 0]\n",
      " [1 0 0]\n",
      " [1 0 0]\n",
      " [1 0 0]\n",
      " [1 0 0]\n",
      " [1 0 0]\n",
      " [1 0 0]\n",
      " [1 0 0]\n",
      " [1 0 0]\n",
      " [1 0 0]\n",
      " [1 0 0]\n",
      " [1 0 0]\n",
      " [1 0 0]\n",
      " [1 0 0]\n",
      " [1 0 0]\n",
      " [1 0 0]\n",
      " [1 0 0]\n",
      " [1 0 0]\n",
      " [1 0 0]\n",
      " [1 0 0]\n",
      " [1 0 0]\n",
      " [1 0 0]\n",
      " [1 0 0]\n",
      " [1 0 0]\n",
      " [1 0 0]\n",
      " [1 0 0]\n",
      " [1 0 0]\n",
      " [1 0 0]\n",
      " [1 0 0]\n",
      " [1 0 0]\n",
      " [1 0 0]\n",
      " [1 0 0]\n",
      " [1 0 0]\n",
      " [1 0 0]\n",
      " [1 0 0]\n",
      " [1 0 0]\n",
      " [1 0 0]\n",
      " [1 0 0]\n",
      " [1 0 0]\n",
      " [1 0 0]\n",
      " [1 0 0]\n",
      " [1 0 0]\n",
      " [1 0 0]\n",
      " [1 0 0]\n",
      " [1 0 0]\n",
      " [1 0 0]\n",
      " [1 0 0]\n",
      " [1 0 0]\n",
      " [1 0 0]\n",
      " [1 0 0]\n",
      " [1 0 0]\n",
      " [1 0 0]\n",
      " [1 0 0]\n",
      " [1 0 0]\n",
      " [1 0 0]\n",
      " [1 0 0]\n",
      " [1 0 0]\n",
      " [1 0 0]\n",
      " [1 0 0]\n",
      " [1 0 0]\n",
      " [1 0 0]\n",
      " [1 0 0]\n",
      " [1 0 0]\n",
      " [1 0 0]\n",
      " [1 0 0]\n",
      " [1 0 0]\n",
      " [1 0 0]\n",
      " [1 0 0]\n",
      " [1 0 0]\n",
      " [1 0 0]\n",
      " [1 0 0]\n",
      " [1 0 0]\n",
      " [1 0 0]\n",
      " [1 0 0]\n",
      " [1 0 0]\n",
      " [1 0 0]\n",
      " [1 0 0]\n",
      " [1 0 0]\n",
      " [1 0 0]\n",
      " [1 0 0]\n",
      " [1 0 0]\n",
      " [1 0 0]\n",
      " [1 0 0]\n",
      " [1 0 0]\n",
      " [1 0 0]\n",
      " [1 0 0]\n",
      " [1 0 0]\n",
      " [1 0 0]\n",
      " [1 0 0]\n",
      " [1 0 0]\n",
      " [1 0 0]\n",
      " [1 0 0]\n",
      " [1 0 0]\n",
      " [1 0 0]\n",
      " [1 0 0]\n",
      " [1 0 0]\n",
      " [1 0 0]\n",
      " [1 0 0]\n",
      " [1 0 0]\n",
      " [1 0 0]\n",
      " [1 0 0]\n",
      " [1 0 0]\n",
      " [1 0 0]\n",
      " [1 0 0]\n",
      " [1 0 0]\n",
      " [1 0 0]\n",
      " [1 0 0]\n",
      " [1 0 0]\n",
      " [1 0 0]\n",
      " [1 0 0]\n",
      " [1 0 0]\n",
      " [1 0 0]\n",
      " [1 0 0]\n",
      " [1 0 0]\n",
      " [1 0 0]\n",
      " [1 0 0]\n",
      " [1 0 0]\n",
      " [1 0 0]\n",
      " [1 0 0]\n",
      " [1 0 0]\n",
      " [1 0 0]\n",
      " [1 0 0]\n",
      " [1 0 0]\n",
      " [1 0 0]\n",
      " [1 0 0]\n",
      " [1 0 0]\n",
      " [1 0 0]\n",
      " [1 0 0]\n",
      " [1 0 0]\n",
      " [1 0 0]\n",
      " [1 0 0]\n",
      " [1 0 0]\n",
      " [1 0 0]\n",
      " [1 0 0]\n",
      " [1 0 0]\n",
      " [1 0 0]\n",
      " [1 0 0]\n",
      " [0 1 0]\n",
      " [0 1 0]\n",
      " [0 1 0]\n",
      " [0 1 0]\n",
      " [0 1 0]\n",
      " [0 1 0]\n",
      " [0 1 0]\n",
      " [0 1 0]\n",
      " [0 1 0]\n",
      " [0 1 0]\n",
      " [0 1 0]\n",
      " [0 1 0]\n",
      " [0 1 0]\n",
      " [0 1 0]\n",
      " [0 1 0]\n",
      " [0 1 0]\n",
      " [0 1 0]\n",
      " [0 1 0]\n",
      " [0 1 0]\n",
      " [0 1 0]\n",
      " [0 1 0]\n",
      " [0 1 0]\n",
      " [0 1 0]\n",
      " [0 1 0]\n",
      " [0 1 0]\n",
      " [0 1 0]\n",
      " [0 1 0]\n",
      " [1 0 0]\n",
      " [1 0 0]\n",
      " [1 0 0]\n",
      " [1 0 0]\n",
      " [1 0 0]\n",
      " [1 0 0]\n",
      " [1 0 0]\n",
      " [1 0 0]\n",
      " [1 0 0]\n",
      " [1 0 0]\n",
      " [1 0 0]\n",
      " [1 0 0]\n",
      " [1 0 0]\n",
      " [1 0 0]\n",
      " [1 0 0]\n",
      " [1 0 0]\n",
      " [0 0 1]\n",
      " [0 0 1]\n",
      " [0 0 1]\n",
      " [0 0 1]\n",
      " [0 0 1]\n",
      " [0 0 1]\n",
      " [0 0 1]\n",
      " [1 0 0]\n",
      " [1 0 0]\n",
      " [1 0 0]\n",
      " [1 0 0]\n",
      " [1 0 0]\n",
      " [1 0 0]\n",
      " [0 0 1]\n",
      " [0 0 1]\n",
      " [0 0 1]\n",
      " [0 0 1]\n",
      " [0 0 1]\n",
      " [0 0 1]\n",
      " [0 0 1]\n",
      " [0 0 1]\n",
      " [0 0 1]\n",
      " [0 0 1]\n",
      " [0 0 1]\n",
      " [0 0 1]\n",
      " [0 0 1]\n",
      " [0 0 1]\n",
      " [0 0 1]\n",
      " [0 0 1]\n",
      " [0 0 1]\n",
      " [0 0 1]\n",
      " [0 0 1]\n",
      " [0 0 1]\n",
      " [0 0 1]\n",
      " [1 0 0]\n",
      " [1 0 0]\n",
      " [1 0 0]\n",
      " [1 0 0]\n",
      " [1 0 0]\n",
      " [1 0 0]\n",
      " [1 0 0]\n",
      " [1 0 0]\n",
      " [1 0 0]\n",
      " [1 0 0]\n",
      " [1 0 0]\n",
      " [1 0 0]\n",
      " [1 0 0]\n",
      " [1 0 0]\n",
      " [1 0 0]\n",
      " [1 0 0]\n",
      " [1 0 0]\n",
      " [1 0 0]\n",
      " [1 0 0]\n",
      " [1 0 0]\n",
      " [1 0 0]\n",
      " [1 0 0]\n",
      " [1 0 0]\n",
      " [1 0 0]\n",
      " [1 0 0]\n",
      " [1 0 0]\n",
      " [1 0 0]\n",
      " [1 0 0]\n",
      " [1 0 0]\n",
      " [1 0 0]\n",
      " [1 0 0]\n",
      " [1 0 0]\n",
      " [1 0 0]\n",
      " [1 0 0]\n",
      " [1 0 0]\n",
      " [1 0 0]\n",
      " [1 0 0]\n",
      " [1 0 0]\n",
      " [1 0 0]\n",
      " [1 0 0]\n",
      " [1 0 0]\n",
      " [1 0 0]\n",
      " [1 0 0]\n",
      " [1 0 0]\n",
      " [1 0 0]\n",
      " [1 0 0]\n",
      " [1 0 0]\n",
      " [1 0 0]\n",
      " [1 0 0]\n",
      " [1 0 0]\n",
      " [1 0 0]\n",
      " [1 0 0]\n",
      " [1 0 0]\n",
      " [1 0 0]\n",
      " [1 0 0]\n",
      " [1 0 0]\n",
      " [1 0 0]\n",
      " [1 0 0]\n",
      " [1 0 0]\n",
      " [1 0 0]\n",
      " [1 0 0]\n",
      " [1 0 0]\n",
      " [1 0 0]]\n"
     ]
    },
    {
     "name": "stderr",
     "output_type": "stream",
     "text": [
      "The feature names should match those that were passed during fit. Starting version 1.2, an error will be raised.\n",
      "Feature names unseen at fit time:\n",
      "- -98.93517395929206\n",
      "- 0.6846098512958166\n",
      "- 107.75105135316551\n",
      "- 11.0\n",
      "- 118044.0\n",
      "- ...\n",
      "Feature names seen at fit time, yet now missing:\n",
      "- %dl_volume\n",
      "- %tcp_protocol\n",
      "- %udp_protocol\n",
      "- %ul_volume\n",
      "- avg_dl_volume\n",
      "- ...\n",
      "\n"
     ]
    }
   ],
   "source": [
    "# Convert the expected output into arrays, e.g., 1 -> [1, 0, 0]\n",
    "output_training = []\n",
    "for i, val in enumerate(training_dataset.iloc[:,21]):\n",
    "    temp = [0, 0, 0]\n",
    "    temp[val - 1] = 1\n",
    "    output_training.append(temp)\n",
    "\n",
    "output_testing = []\n",
    "for i, val in enumerate(testing_dataset.iloc[:,21]):\n",
    "    temp = [0, 0, 0]\n",
    "    temp[val - 1] = 1\n",
    "    output_testing.append(temp)\n",
    "\n",
    "output_poisoning = []\n",
    "for i, val in enumerate(poison_dataset.iloc[:,-1]):\n",
    "    temp = [0, 0, 0]\n",
    "    temp[int(val) - 1] = 1\n",
    "    output_poisoning.append(temp)\n",
    "\n",
    "# Remove the expected output column from the datasets\n",
    "prep_training_dataset = training_dataset.drop(columns=['output'])\n",
    "prep_testing_dataset = testing_dataset.drop(columns=['output'])\n",
    "\n",
    "prep_poison_dataset = poison_dataset.drop(poison_dataset.columns[-1],axis=1)\n",
    "\n",
    "# Preprocessing the data\n",
    "scaler = StandardScaler()\n",
    "scaler.fit(prep_training_dataset)\n",
    "# scaler.fit(prep_poison_dataset)\n",
    "\n",
    "# Apply transform to both the training/testing dataset.\n",
    "X_train = scaler.transform(prep_training_dataset)\n",
    "Y_train = np.array(output_training)\n",
    "\n",
    "X_test = scaler.transform(prep_testing_dataset)\n",
    "Y_test = np.array(output_testing)\n",
    "\n",
    "X_poison = scaler.transform(prep_poison_dataset)\n",
    "Y_poison = np.array(output_poisoning)\n",
    "\n",
    "print(\"Preprocessed inputs of the training dataset: \" + str(X_train))\n",
    "print(\"Preprocessed outputs of the training dataset: \" + str(Y_train))\n",
    "# print(\"Preprocessed outputs of the poisoning dataset: \" + str(Y_train))"
   ]
  },
  {
   "cell_type": "code",
   "execution_count": 45,
   "metadata": {},
   "outputs": [
    {
     "data": {
      "text/plain": [
       "numpy.ndarray"
      ]
     },
     "execution_count": 45,
     "metadata": {},
     "output_type": "execute_result"
    }
   ],
   "source": [
    "type(X_train)"
   ]
  },
  {
   "cell_type": "code",
   "execution_count": 77,
   "metadata": {},
   "outputs": [],
   "source": [
    "def add_poison_set(X_train, Y_train, X_poison=None, Y_poison=None, poison_type='new_example', percentage=0):\n",
    "    X_train_ = X_train.copy().tolist()\n",
    "    Y_train_ = Y_train.copy().tolist()\n",
    "    if poison_type=='new_example':\n",
    "        required_samples = int(len(X_train_)*percentage)\n",
    "        if len(X_poison)>=required_samples:\n",
    "            to_copy_idx =[i for i in range(len(X_poison))]\n",
    "            random.shuffle(to_copy_idx)\n",
    "            for i in range(required_samples):\n",
    "                X_train_.append(X_poison[to_copy_idx[i]])\n",
    "                Y_train_.append(Y_poison[to_copy_idx[i]])\n",
    "        \n",
    "    if poison_type=='label_flipping':\n",
    "        flip_amount = int(len(X_train_)*percentage)\n",
    "        if len(X_train_)>=flip_amount:\n",
    "            for i in range(flip_amount):\n",
    "                flip_idx_1 = random.randint(0,len(Y_train_)-1)\n",
    "                flip_idx_2 = random.randint(0,len(Y_train_)-1)\n",
    "                Y_train_[flip_idx_1], Y_train_[flip_idx_2] = Y_train_[flip_idx_2], Y_train_[flip_idx_1]\n",
    "            \n",
    "    return np.asarray(X_train_), np.asarray(Y_train_)"
   ]
  },
  {
   "cell_type": "code",
   "execution_count": 78,
   "metadata": {},
   "outputs": [],
   "source": [
    "\n",
    "X_train_new, Y_train_new = add_poison_set(X_train, Y_train, X_poison, Y_poison, poison_type='new_example', percentage=10)"
   ]
  },
  {
   "cell_type": "code",
   "execution_count": 80,
   "metadata": {},
   "outputs": [
    {
     "data": {
      "text/plain": [
       "numpy.ndarray"
      ]
     },
     "execution_count": 80,
     "metadata": {},
     "output_type": "execute_result"
    }
   ],
   "source": []
  },
  {
   "cell_type": "code",
   "execution_count": 81,
   "metadata": {},
   "outputs": [
    {
     "name": "stdout",
     "output_type": "stream",
     "text": [
      "Epoch 1/150\n",
      "28/28 [==============================] - 0s 1ms/step - loss: 0.5140 - accuracy: 0.8423\n",
      "Epoch 2/150\n",
      "28/28 [==============================] - 0s 985us/step - loss: 0.4270 - accuracy: 0.8889\n",
      "Epoch 3/150\n",
      "28/28 [==============================] - 0s 979us/step - loss: 0.3580 - accuracy: 0.8889\n",
      "Epoch 4/150\n",
      "28/28 [==============================] - 0s 963us/step - loss: 0.3003 - accuracy: 0.8961\n",
      "Epoch 5/150\n",
      "28/28 [==============================] - 0s 1ms/step - loss: 0.2534 - accuracy: 0.8961\n",
      "Epoch 6/150\n",
      "28/28 [==============================] - 0s 1ms/step - loss: 0.2161 - accuracy: 0.8961\n",
      "Epoch 7/150\n",
      "28/28 [==============================] - 0s 1ms/step - loss: 0.1878 - accuracy: 0.8925\n",
      "Epoch 8/150\n",
      "28/28 [==============================] - 0s 1ms/step - loss: 0.1686 - accuracy: 0.8925\n",
      "Epoch 9/150\n",
      "28/28 [==============================] - 0s 1ms/step - loss: 0.1559 - accuracy: 0.8925\n",
      "Epoch 10/150\n",
      "28/28 [==============================] - 0s 1ms/step - loss: 0.1466 - accuracy: 0.8925\n",
      "Epoch 11/150\n",
      "28/28 [==============================] - 0s 1ms/step - loss: 0.1388 - accuracy: 0.8925\n",
      "Epoch 12/150\n",
      "28/28 [==============================] - 0s 1ms/step - loss: 0.1334 - accuracy: 0.8925\n",
      "Epoch 13/150\n",
      "28/28 [==============================] - 0s 1ms/step - loss: 0.1286 - accuracy: 0.8925\n",
      "Epoch 14/150\n",
      "28/28 [==============================] - 0s 1ms/step - loss: 0.1249 - accuracy: 0.8961\n",
      "Epoch 15/150\n",
      "28/28 [==============================] - 0s 1ms/step - loss: 0.1216 - accuracy: 0.8961\n",
      "Epoch 16/150\n",
      "28/28 [==============================] - 0s 1ms/step - loss: 0.1190 - accuracy: 0.8996\n",
      "Epoch 17/150\n",
      "28/28 [==============================] - 0s 1ms/step - loss: 0.1164 - accuracy: 0.8996\n",
      "Epoch 18/150\n",
      "28/28 [==============================] - 0s 1ms/step - loss: 0.1144 - accuracy: 0.8996\n",
      "Epoch 19/150\n",
      "28/28 [==============================] - 0s 966us/step - loss: 0.1123 - accuracy: 0.9032\n",
      "Epoch 20/150\n",
      "28/28 [==============================] - 0s 1ms/step - loss: 0.1110 - accuracy: 0.9140\n",
      "Epoch 21/150\n",
      "28/28 [==============================] - 0s 1ms/step - loss: 0.1093 - accuracy: 0.9211\n",
      "Epoch 22/150\n",
      "28/28 [==============================] - 0s 1ms/step - loss: 0.1076 - accuracy: 0.9176\n",
      "Epoch 23/150\n",
      "28/28 [==============================] - 0s 1ms/step - loss: 0.1060 - accuracy: 0.9283\n",
      "Epoch 24/150\n",
      "28/28 [==============================] - 0s 1ms/step - loss: 0.1048 - accuracy: 0.9319\n",
      "Epoch 25/150\n",
      "28/28 [==============================] - 0s 1ms/step - loss: 0.1028 - accuracy: 0.9391\n",
      "Epoch 26/150\n",
      "28/28 [==============================] - 0s 1ms/step - loss: 0.1016 - accuracy: 0.9391\n",
      "Epoch 27/150\n",
      "28/28 [==============================] - 0s 1ms/step - loss: 0.1004 - accuracy: 0.9427\n",
      "Epoch 28/150\n",
      "28/28 [==============================] - 0s 1ms/step - loss: 0.0991 - accuracy: 0.9498\n",
      "Epoch 29/150\n",
      "28/28 [==============================] - 0s 1ms/step - loss: 0.0975 - accuracy: 0.9498\n",
      "Epoch 30/150\n",
      "28/28 [==============================] - 0s 1ms/step - loss: 0.0962 - accuracy: 0.9606\n",
      "Epoch 31/150\n",
      "28/28 [==============================] - 0s 1ms/step - loss: 0.0951 - accuracy: 0.9570\n",
      "Epoch 32/150\n",
      "28/28 [==============================] - 0s 1ms/step - loss: 0.0937 - accuracy: 0.9534\n",
      "Epoch 33/150\n",
      "28/28 [==============================] - 0s 1ms/step - loss: 0.0928 - accuracy: 0.9642\n",
      "Epoch 34/150\n",
      "28/28 [==============================] - 0s 1ms/step - loss: 0.0906 - accuracy: 0.9677\n",
      "Epoch 35/150\n",
      "28/28 [==============================] - 0s 1ms/step - loss: 0.0894 - accuracy: 0.9713\n",
      "Epoch 36/150\n",
      "28/28 [==============================] - 0s 1ms/step - loss: 0.0879 - accuracy: 0.9677\n",
      "Epoch 37/150\n",
      "28/28 [==============================] - 0s 1ms/step - loss: 0.0864 - accuracy: 0.9677\n",
      "Epoch 38/150\n",
      "28/28 [==============================] - 0s 1ms/step - loss: 0.0845 - accuracy: 0.9713\n",
      "Epoch 39/150\n",
      "28/28 [==============================] - 0s 1ms/step - loss: 0.0831 - accuracy: 0.9749\n",
      "Epoch 40/150\n",
      "28/28 [==============================] - 0s 1ms/step - loss: 0.0814 - accuracy: 0.9749\n",
      "Epoch 41/150\n",
      "28/28 [==============================] - 0s 1ms/step - loss: 0.0794 - accuracy: 0.9749\n",
      "Epoch 42/150\n",
      "28/28 [==============================] - 0s 1ms/step - loss: 0.0778 - accuracy: 0.9785\n",
      "Epoch 43/150\n",
      "28/28 [==============================] - 0s 1ms/step - loss: 0.0761 - accuracy: 0.9785\n",
      "Epoch 44/150\n",
      "28/28 [==============================] - 0s 1ms/step - loss: 0.0745 - accuracy: 0.9749\n",
      "Epoch 45/150\n",
      "28/28 [==============================] - 0s 1ms/step - loss: 0.0721 - accuracy: 0.9857\n",
      "Epoch 46/150\n",
      "28/28 [==============================] - 0s 1ms/step - loss: 0.0708 - accuracy: 0.9857\n",
      "Epoch 47/150\n",
      "28/28 [==============================] - 0s 903us/step - loss: 0.0692 - accuracy: 0.9857\n",
      "Epoch 48/150\n",
      "28/28 [==============================] - 0s 1ms/step - loss: 0.0670 - accuracy: 0.9821\n",
      "Epoch 49/150\n",
      "28/28 [==============================] - 0s 1ms/step - loss: 0.0644 - accuracy: 0.9857\n",
      "Epoch 50/150\n",
      "28/28 [==============================] - 0s 926us/step - loss: 0.0630 - accuracy: 0.9857\n",
      "Epoch 51/150\n",
      "28/28 [==============================] - 0s 1ms/step - loss: 0.0609 - accuracy: 0.9857\n",
      "Epoch 52/150\n",
      "28/28 [==============================] - 0s 936us/step - loss: 0.0591 - accuracy: 0.9892\n",
      "Epoch 53/150\n",
      "28/28 [==============================] - 0s 1ms/step - loss: 0.0577 - accuracy: 0.9857\n",
      "Epoch 54/150\n",
      "28/28 [==============================] - 0s 1ms/step - loss: 0.0567 - accuracy: 0.9857\n",
      "Epoch 55/150\n",
      "28/28 [==============================] - 0s 893us/step - loss: 0.0539 - accuracy: 0.9892\n",
      "Epoch 56/150\n",
      "28/28 [==============================] - 0s 969us/step - loss: 0.0519 - accuracy: 0.9892\n",
      "Epoch 57/150\n",
      "28/28 [==============================] - 0s 963us/step - loss: 0.0504 - accuracy: 0.9892\n",
      "Epoch 58/150\n",
      "28/28 [==============================] - 0s 1ms/step - loss: 0.0491 - accuracy: 0.9892\n",
      "Epoch 59/150\n",
      "28/28 [==============================] - 0s 1000us/step - loss: 0.0481 - accuracy: 0.9892\n",
      "Epoch 60/150\n",
      "28/28 [==============================] - 0s 889us/step - loss: 0.0464 - accuracy: 0.9892\n",
      "Epoch 61/150\n",
      "28/28 [==============================] - 0s 963us/step - loss: 0.0453 - accuracy: 0.9892\n",
      "Epoch 62/150\n",
      "28/28 [==============================] - 0s 871us/step - loss: 0.0444 - accuracy: 0.9892\n",
      "Epoch 63/150\n",
      "28/28 [==============================] - 0s 1000us/step - loss: 0.0429 - accuracy: 0.9892\n",
      "Epoch 64/150\n",
      "28/28 [==============================] - 0s 1ms/step - loss: 0.0414 - accuracy: 0.9892\n",
      "Epoch 65/150\n",
      "28/28 [==============================] - 0s 1ms/step - loss: 0.0408 - accuracy: 0.9892\n",
      "Epoch 66/150\n",
      "28/28 [==============================] - 0s 1ms/step - loss: 0.0399 - accuracy: 0.9892\n",
      "Epoch 67/150\n",
      "28/28 [==============================] - 0s 1000us/step - loss: 0.0385 - accuracy: 0.9892\n",
      "Epoch 68/150\n",
      "28/28 [==============================] - 0s 1ms/step - loss: 0.0376 - accuracy: 0.9892\n",
      "Epoch 69/150\n",
      "28/28 [==============================] - 0s 1ms/step - loss: 0.0369 - accuracy: 0.9892\n",
      "Epoch 70/150\n",
      "28/28 [==============================] - 0s 1ms/step - loss: 0.0364 - accuracy: 0.9892\n",
      "Epoch 71/150\n",
      "28/28 [==============================] - 0s 1ms/step - loss: 0.0359 - accuracy: 0.9892\n",
      "Epoch 72/150\n",
      "28/28 [==============================] - 0s 1ms/step - loss: 0.0354 - accuracy: 0.9892\n",
      "Epoch 73/150\n",
      "28/28 [==============================] - 0s 1ms/step - loss: 0.0342 - accuracy: 0.9892\n",
      "Epoch 74/150\n",
      "28/28 [==============================] - 0s 926us/step - loss: 0.0339 - accuracy: 0.9892\n",
      "Epoch 75/150\n",
      "28/28 [==============================] - 0s 983us/step - loss: 0.0329 - accuracy: 0.9892\n",
      "Epoch 76/150\n",
      "28/28 [==============================] - 0s 889us/step - loss: 0.0322 - accuracy: 0.9892\n",
      "Epoch 77/150\n",
      "28/28 [==============================] - 0s 1ms/step - loss: 0.0322 - accuracy: 0.9892\n",
      "Epoch 78/150\n",
      "28/28 [==============================] - 0s 945us/step - loss: 0.0312 - accuracy: 0.9892\n",
      "Epoch 79/150\n",
      "28/28 [==============================] - 0s 1ms/step - loss: 0.0305 - accuracy: 0.9892\n",
      "Epoch 80/150\n",
      "28/28 [==============================] - 0s 1ms/step - loss: 0.0301 - accuracy: 0.9892\n",
      "Epoch 81/150\n",
      "28/28 [==============================] - 0s 1ms/step - loss: 0.0307 - accuracy: 0.9892\n",
      "Epoch 82/150\n",
      "28/28 [==============================] - 0s 1ms/step - loss: 0.0296 - accuracy: 0.9892\n",
      "Epoch 83/150\n",
      "28/28 [==============================] - 0s 1ms/step - loss: 0.0290 - accuracy: 0.9892\n",
      "Epoch 84/150\n",
      "28/28 [==============================] - 0s 1ms/step - loss: 0.0286 - accuracy: 0.9892\n",
      "Epoch 85/150\n",
      "28/28 [==============================] - 0s 963us/step - loss: 0.0287 - accuracy: 0.9892\n",
      "Epoch 86/150\n",
      "28/28 [==============================] - 0s 889us/step - loss: 0.0278 - accuracy: 0.9892\n",
      "Epoch 87/150\n",
      "28/28 [==============================] - 0s 2ms/step - loss: 0.0279 - accuracy: 0.9892\n",
      "Epoch 88/150\n",
      "28/28 [==============================] - 0s 1ms/step - loss: 0.0277 - accuracy: 0.9857\n",
      "Epoch 89/150\n",
      "28/28 [==============================] - 0s 1ms/step - loss: 0.0277 - accuracy: 0.9892\n",
      "Epoch 90/150\n",
      "28/28 [==============================] - 0s 889us/step - loss: 0.0274 - accuracy: 0.9892\n",
      "Epoch 91/150\n",
      "28/28 [==============================] - 0s 963us/step - loss: 0.0264 - accuracy: 0.9892\n",
      "Epoch 92/150\n",
      "28/28 [==============================] - 0s 1ms/step - loss: 0.0255 - accuracy: 0.9892\n",
      "Epoch 93/150\n",
      "28/28 [==============================] - 0s 2ms/step - loss: 0.0251 - accuracy: 0.9892\n",
      "Epoch 94/150\n",
      "28/28 [==============================] - 0s 1ms/step - loss: 0.0253 - accuracy: 0.9892\n",
      "Epoch 95/150\n",
      "28/28 [==============================] - 0s 1ms/step - loss: 0.0251 - accuracy: 0.9892\n",
      "Epoch 96/150\n",
      "28/28 [==============================] - 0s 1ms/step - loss: 0.0245 - accuracy: 0.9892\n",
      "Epoch 97/150\n",
      "28/28 [==============================] - 0s 1ms/step - loss: 0.0244 - accuracy: 0.9892\n",
      "Epoch 98/150\n",
      "28/28 [==============================] - 0s 1ms/step - loss: 0.0237 - accuracy: 0.9892\n",
      "Epoch 99/150\n",
      "28/28 [==============================] - 0s 1ms/step - loss: 0.0240 - accuracy: 0.9892\n",
      "Epoch 100/150\n",
      "28/28 [==============================] - 0s 964us/step - loss: 0.0233 - accuracy: 0.9892\n",
      "Epoch 101/150\n",
      "28/28 [==============================] - 0s 1ms/step - loss: 0.0229 - accuracy: 0.9892\n",
      "Epoch 102/150\n",
      "28/28 [==============================] - 0s 1ms/step - loss: 0.0230 - accuracy: 0.9892\n",
      "Epoch 103/150\n",
      "28/28 [==============================] - 0s 963us/step - loss: 0.0225 - accuracy: 0.9892\n",
      "Epoch 104/150\n",
      "28/28 [==============================] - 0s 1ms/step - loss: 0.0221 - accuracy: 0.9892\n",
      "Epoch 105/150\n",
      "28/28 [==============================] - 0s 1ms/step - loss: 0.0219 - accuracy: 0.9892\n",
      "Epoch 106/150\n",
      "28/28 [==============================] - 0s 1ms/step - loss: 0.0217 - accuracy: 0.9892\n",
      "Epoch 107/150\n",
      "28/28 [==============================] - 0s 1ms/step - loss: 0.0213 - accuracy: 0.9892\n",
      "Epoch 108/150\n",
      "28/28 [==============================] - 0s 1ms/step - loss: 0.0217 - accuracy: 0.9892\n",
      "Epoch 109/150\n",
      "28/28 [==============================] - 0s 1ms/step - loss: 0.0212 - accuracy: 0.9892\n",
      "Epoch 110/150\n",
      "28/28 [==============================] - 0s 945us/step - loss: 0.0207 - accuracy: 0.9892\n",
      "Epoch 111/150\n",
      "28/28 [==============================] - 0s 1ms/step - loss: 0.0204 - accuracy: 0.9892\n",
      "Epoch 112/150\n",
      "28/28 [==============================] - 0s 1ms/step - loss: 0.0204 - accuracy: 0.9892\n",
      "Epoch 113/150\n",
      "28/28 [==============================] - 0s 1ms/step - loss: 0.0203 - accuracy: 0.9892\n",
      "Epoch 114/150\n",
      "28/28 [==============================] - 0s 1ms/step - loss: 0.0198 - accuracy: 0.9892\n",
      "Epoch 115/150\n",
      "28/28 [==============================] - 0s 1ms/step - loss: 0.0197 - accuracy: 0.9892\n",
      "Epoch 116/150\n",
      "28/28 [==============================] - 0s 1ms/step - loss: 0.0196 - accuracy: 0.9892\n",
      "Epoch 117/150\n",
      "28/28 [==============================] - 0s 1ms/step - loss: 0.0190 - accuracy: 0.9892\n",
      "Epoch 118/150\n",
      "28/28 [==============================] - 0s 1ms/step - loss: 0.0192 - accuracy: 0.9892\n",
      "Epoch 119/150\n",
      "28/28 [==============================] - 0s 1ms/step - loss: 0.0188 - accuracy: 0.9928\n",
      "Epoch 120/150\n",
      "28/28 [==============================] - 0s 1ms/step - loss: 0.0188 - accuracy: 0.9892\n",
      "Epoch 121/150\n",
      "28/28 [==============================] - 0s 1ms/step - loss: 0.0185 - accuracy: 0.9892\n",
      "Epoch 122/150\n",
      "28/28 [==============================] - 0s 1ms/step - loss: 0.0181 - accuracy: 0.9928\n",
      "Epoch 123/150\n",
      "28/28 [==============================] - 0s 1ms/step - loss: 0.0181 - accuracy: 0.9892\n",
      "Epoch 124/150\n",
      "28/28 [==============================] - 0s 1ms/step - loss: 0.0179 - accuracy: 0.9892\n",
      "Epoch 125/150\n",
      "28/28 [==============================] - 0s 1ms/step - loss: 0.0175 - accuracy: 0.9892\n",
      "Epoch 126/150\n",
      "28/28 [==============================] - 0s 1ms/step - loss: 0.0171 - accuracy: 0.9892\n",
      "Epoch 127/150\n",
      "28/28 [==============================] - 0s 1ms/step - loss: 0.0171 - accuracy: 0.9892\n",
      "Epoch 128/150\n",
      "28/28 [==============================] - 0s 1ms/step - loss: 0.0169 - accuracy: 0.9892\n",
      "Epoch 129/150\n",
      "28/28 [==============================] - 0s 1ms/step - loss: 0.0168 - accuracy: 0.9892\n",
      "Epoch 130/150\n",
      "28/28 [==============================] - 0s 1ms/step - loss: 0.0169 - accuracy: 0.9928\n",
      "Epoch 131/150\n",
      "28/28 [==============================] - 0s 1ms/step - loss: 0.0167 - accuracy: 0.9928\n",
      "Epoch 132/150\n",
      "28/28 [==============================] - 0s 1ms/step - loss: 0.0180 - accuracy: 0.9928\n",
      "Epoch 133/150\n",
      "28/28 [==============================] - 0s 1ms/step - loss: 0.0162 - accuracy: 0.9892\n",
      "Epoch 134/150\n",
      "28/28 [==============================] - 0s 1ms/step - loss: 0.0160 - accuracy: 0.9964\n",
      "Epoch 135/150\n",
      "28/28 [==============================] - 0s 1ms/step - loss: 0.0160 - accuracy: 0.9892\n",
      "Epoch 136/150\n",
      "28/28 [==============================] - 0s 1ms/step - loss: 0.0156 - accuracy: 0.9928\n",
      "Epoch 137/150\n",
      "28/28 [==============================] - 0s 1ms/step - loss: 0.0157 - accuracy: 0.9928\n",
      "Epoch 138/150\n",
      "28/28 [==============================] - 0s 963us/step - loss: 0.0156 - accuracy: 0.9928\n",
      "Epoch 139/150\n",
      "28/28 [==============================] - 0s 1ms/step - loss: 0.0150 - accuracy: 0.9964\n",
      "Epoch 140/150\n",
      "28/28 [==============================] - 0s 1ms/step - loss: 0.0155 - accuracy: 0.9928\n",
      "Epoch 141/150\n",
      "28/28 [==============================] - 0s 1ms/step - loss: 0.0151 - accuracy: 0.9928\n",
      "Epoch 142/150\n",
      "28/28 [==============================] - 0s 1ms/step - loss: 0.0147 - accuracy: 0.9964\n",
      "Epoch 143/150\n",
      "28/28 [==============================] - 0s 1ms/step - loss: 0.0145 - accuracy: 0.9928\n",
      "Epoch 144/150\n",
      "28/28 [==============================] - 0s 1ms/step - loss: 0.0148 - accuracy: 0.9928\n",
      "Epoch 145/150\n",
      "28/28 [==============================] - 0s 1000us/step - loss: 0.0144 - accuracy: 0.9964\n",
      "Epoch 146/150\n",
      "28/28 [==============================] - 0s 1ms/step - loss: 0.0144 - accuracy: 0.9964\n",
      "Epoch 147/150\n",
      "28/28 [==============================] - 0s 1ms/step - loss: 0.0143 - accuracy: 0.9928\n",
      "Epoch 148/150\n",
      "28/28 [==============================] - 0s 1ms/step - loss: 0.0156 - accuracy: 0.9928\n",
      "Epoch 149/150\n",
      "28/28 [==============================] - 0s 1ms/step - loss: 0.0137 - accuracy: 0.9928\n",
      "Epoch 150/150\n",
      "28/28 [==============================] - 0s 1ms/step - loss: 0.0137 - accuracy: 0.9928\n",
      "9/9 [==============================] - 0s 1ms/step - loss: 0.0130 - accuracy: 0.9964\n",
      "Accuracy: 99.64\n"
     ]
    }
   ],
   "source": [
    "# Define the Keras model\n",
    "model = Sequential()\n",
    "model.add(Dense(12, input_shape=(21,), activation='relu'))\n",
    "model.add(Dense(8, activation='relu'))\n",
    "model.add(Dense(3, activation='sigmoid'))\n",
    "\n",
    "# Compile the Keras model\n",
    "model.compile(loss='binary_crossentropy', optimizer='adam', metrics=['accuracy'])\n",
    "\n",
    "# Fit the Keras model on the dataset\n",
    "# model.fit(X_poison, Y_poison, epochs=150, batch_size=10)\n",
    "X_train_new, Y_train_new = add_poison_set(X_train, Y_train, X_poison, Y_poison, poison_type='new_example', percentage=10)\n",
    "model.fit(X_train, Y_train, epochs=150, batch_size=10)\n",
    "\n",
    "# Evaluate the Keras model\n",
    "_, accuracy = model.evaluate(X_train, Y_train)\n",
    "print('Accuracy: %.2f' % (accuracy*100))"
   ]
  },
  {
   "cell_type": "code",
   "execution_count": 82,
   "metadata": {},
   "outputs": [
    {
     "name": "stdout",
     "output_type": "stream",
     "text": [
      "4/4 [==============================] - 0s 2ms/step\n",
      "Wrong prediction at sample 61\n",
      "Prediction: [0 1 1] but expected output: [0 1 0]\n",
      "Wrong prediction at sample 67\n",
      "Prediction: [0 1 0] but expected output: [0 0 1]\n",
      "Wrong prediction at sample 71\n",
      "Prediction: [0 0 0] but expected output: [0 0 1]\n",
      "Wrong prediction at sample 75\n",
      "Prediction: [0 0 0] but expected output: [0 0 1]\n",
      "Wrong prediction at sample 83\n",
      "Prediction: [1 0 0] but expected output: [0 0 1]\n",
      "4/4 [==============================] - 0s 1ms/step\n",
      "Confusion matrix: \n",
      "[[80  0  0]\n",
      " [ 0  7  0]\n",
      " [ 2  2 12]]\n",
      "Number of wrong predictions: 5\n",
      "Accuracy: 95.14563106796116%\n"
     ]
    },
    {
     "data": {
      "image/png": "[encoded data removed]",
      "text/plain": [
       "<Figure size 432x288 with 2 Axes>"
      ]
     },
     "metadata": {
      "needs_background": "light"
     },
     "output_type": "display_data"
    }
   ],
   "source": [
    "from sklearn.metrics import ConfusionMatrixDisplay\n",
    "from sklearn.metrics import confusion_matrix\n",
    "import matplotlib.pyplot as plt\n",
    "\n",
    "# Make class predictions with the model\n",
    "predictions = (model.predict(X_test) > 0.5).astype(int)\n",
    "\n",
    "nb_errors = 0\n",
    "nb_tests = len(X_test)\n",
    "errors = []\n",
    "for i in range(0,len(X_test)):\n",
    "\t#print('%s (expected %s)' % (predictions[i].tolist(), Y_test[i].tolist()))\n",
    "\tif (predictions[i].tolist() != Y_test[i].tolist()):\n",
    "\t\terrors.append(i)\n",
    "\t\tnb_errors += 1\n",
    "\n",
    "accuracy = (nb_tests - nb_errors) * 100 / nb_tests\n",
    "\n",
    "for i in errors:\n",
    "\tprint(\"Wrong prediction at sample \" + str(i + 1))\n",
    "\t#print(X_test[i])\n",
    "\tprint(\"Prediction: \" + str(predictions[i]) + \" but expected output: \" + str(Y_test[i]))\n",
    "\n",
    "Y_pred = model.predict(X_test)\n",
    "cm = confusion_matrix(Y_test.argmax(axis=1), Y_pred.argmax(axis=1))\n",
    "print(\"Confusion matrix: \\n\" + str(cm))\n",
    "\n",
    "labels = [\"Web\", \"Interactive\", \"Video\"]\n",
    "disp = ConfusionMatrixDisplay(confusion_matrix=cm, display_labels=labels)\n",
    "disp.plot(cmap=plt.cm.Blues)\n",
    "disp.ax_.set_title(\"Confusion Matrix\")\n",
    "\n",
    "print(\"Number of wrong predictions: \" + str(nb_errors))\n",
    "print(\"Accuracy: \" + str(accuracy) + \"%\")"
   ]
  },
  {
   "cell_type": "code",
   "execution_count": 83,
   "metadata": {},
   "outputs": [
    {
     "name": "stdout",
     "output_type": "stream",
     "text": [
      "4/4 [==============================] - 0s 992us/step\n"
     ]
    },
    {
     "name": "stderr",
     "output_type": "stream",
     "text": [
      "Using 103 background data samples could cause slower run times. Consider using shap.sample(data, K) or shap.kmeans(data, K) to summarize the background as K samples.\n",
      "  0%|          | 0/103 [00:00<?, ?it/s]"
     ]
    },
    {
     "name": "stdout",
     "output_type": "stream",
     "text": [
      "1/1 [==============================] - 0s 19ms/step\n",
      "322/322 [==============================] - 0s 609us/step\n"
     ]
    },
    {
     "name": "stderr",
     "output_type": "stream",
     "text": [
      "  1%|          | 1/103 [00:00<00:45,  2.23it/s]"
     ]
    },
    {
     "name": "stdout",
     "output_type": "stream",
     "text": [
      "1/1 [==============================] - 0s 21ms/step\n",
      "322/322 [==============================] - 0s 618us/step\n"
     ]
    },
    {
     "name": "stderr",
     "output_type": "stream",
     "text": [
      "  2%|▏         | 2/103 [00:00<00:45,  2.20it/s]"
     ]
    },
    {
     "name": "stdout",
     "output_type": "stream",
     "text": [
      "1/1 [==============================] - 0s 18ms/step\n",
      "322/322 [==============================] - 0s 597us/step\n"
     ]
    },
    {
     "name": "stderr",
     "output_type": "stream",
     "text": [
      "  3%|▎         | 3/103 [00:01<00:44,  2.25it/s]"
     ]
    },
    {
     "name": "stdout",
     "output_type": "stream",
     "text": [
      "1/1 [==============================] - 0s 18ms/step\n",
      "322/322 [==============================] - 0s 575us/step\n"
     ]
    },
    {
     "name": "stderr",
     "output_type": "stream",
     "text": [
      "  4%|▍         | 4/103 [00:01<00:42,  2.30it/s]"
     ]
    },
    {
     "name": "stdout",
     "output_type": "stream",
     "text": [
      "1/1 [==============================] - 0s 19ms/step\n",
      "322/322 [==============================] - 0s 616us/step\n"
     ]
    },
    {
     "name": "stderr",
     "output_type": "stream",
     "text": [
      "  5%|▍         | 5/103 [00:02<00:59,  1.64it/s]"
     ]
    },
    {
     "name": "stdout",
     "output_type": "stream",
     "text": [
      "1/1 [==============================] - 0s 17ms/step\n",
      "322/322 [==============================] - 0s 613us/step\n"
     ]
    },
    {
     "name": "stderr",
     "output_type": "stream",
     "text": [
      "  6%|▌         | 6/103 [00:03<00:53,  1.81it/s]"
     ]
    },
    {
     "name": "stdout",
     "output_type": "stream",
     "text": [
      "1/1 [==============================] - 0s 16ms/step\n",
      "322/322 [==============================] - 0s 601us/step\n"
     ]
    },
    {
     "name": "stderr",
     "output_type": "stream",
     "text": [
      "  7%|▋         | 7/103 [00:03<00:50,  1.92it/s]"
     ]
    },
    {
     "name": "stdout",
     "output_type": "stream",
     "text": [
      "1/1 [==============================] - 0s 17ms/step\n",
      "322/322 [==============================] - 0s 581us/step\n"
     ]
    },
    {
     "name": "stderr",
     "output_type": "stream",
     "text": [
      "  8%|▊         | 8/103 [00:03<00:46,  2.05it/s]"
     ]
    },
    {
     "name": "stdout",
     "output_type": "stream",
     "text": [
      "1/1 [==============================] - 0s 17ms/step\n",
      "322/322 [==============================] - 0s 592us/step\n"
     ]
    },
    {
     "name": "stderr",
     "output_type": "stream",
     "text": [
      "  9%|▊         | 9/103 [00:04<00:43,  2.14it/s]"
     ]
    },
    {
     "name": "stdout",
     "output_type": "stream",
     "text": [
      "1/1 [==============================] - 0s 17ms/step\n",
      "322/322 [==============================] - 0s 589us/step\n"
     ]
    },
    {
     "name": "stderr",
     "output_type": "stream",
     "text": [
      " 10%|▉         | 10/103 [00:04<00:42,  2.21it/s]"
     ]
    },
    {
     "name": "stdout",
     "output_type": "stream",
     "text": [
      "1/1 [==============================] - 0s 18ms/step\n",
      "322/322 [==============================] - 0s 570us/step\n"
     ]
    },
    {
     "name": "stderr",
     "output_type": "stream",
     "text": [
      " 11%|█         | 11/103 [00:05<00:40,  2.27it/s]"
     ]
    },
    {
     "name": "stdout",
     "output_type": "stream",
     "text": [
      "1/1 [==============================] - 0s 16ms/step\n",
      "322/322 [==============================] - 0s 603us/step\n"
     ]
    },
    {
     "name": "stderr",
     "output_type": "stream",
     "text": [
      " 12%|█▏        | 12/103 [00:05<00:39,  2.29it/s]"
     ]
    },
    {
     "name": "stdout",
     "output_type": "stream",
     "text": [
      "1/1 [==============================] - 0s 17ms/step\n",
      "322/322 [==============================] - 0s 596us/step\n"
     ]
    },
    {
     "name": "stderr",
     "output_type": "stream",
     "text": [
      " 13%|█▎        | 13/103 [00:06<00:38,  2.32it/s]"
     ]
    },
    {
     "name": "stdout",
     "output_type": "stream",
     "text": [
      "1/1 [==============================] - 0s 18ms/step\n",
      "322/322 [==============================] - 0s 576us/step\n"
     ]
    },
    {
     "name": "stderr",
     "output_type": "stream",
     "text": [
      " 14%|█▎        | 14/103 [00:06<00:38,  2.33it/s]"
     ]
    },
    {
     "name": "stdout",
     "output_type": "stream",
     "text": [
      "1/1 [==============================] - 0s 18ms/step\n",
      "322/322 [==============================] - 0s 593us/step\n"
     ]
    },
    {
     "name": "stderr",
     "output_type": "stream",
     "text": [
      " 15%|█▍        | 15/103 [00:06<00:37,  2.34it/s]"
     ]
    },
    {
     "name": "stdout",
     "output_type": "stream",
     "text": [
      "1/1 [==============================] - 0s 17ms/step\n",
      "322/322 [==============================] - 0s 572us/step\n"
     ]
    },
    {
     "name": "stderr",
     "output_type": "stream",
     "text": [
      " 16%|█▌        | 16/103 [00:07<00:36,  2.36it/s]"
     ]
    },
    {
     "name": "stdout",
     "output_type": "stream",
     "text": [
      "1/1 [==============================] - 0s 18ms/step\n",
      "322/322 [==============================] - 0s 597us/step\n"
     ]
    },
    {
     "name": "stderr",
     "output_type": "stream",
     "text": [
      " 17%|█▋        | 17/103 [00:07<00:36,  2.35it/s]"
     ]
    },
    {
     "name": "stdout",
     "output_type": "stream",
     "text": [
      "1/1 [==============================] - 0s 17ms/step\n",
      "322/322 [==============================] - 0s 595us/step\n"
     ]
    },
    {
     "name": "stderr",
     "output_type": "stream",
     "text": [
      " 17%|█▋        | 18/103 [00:08<00:36,  2.36it/s]"
     ]
    },
    {
     "name": "stdout",
     "output_type": "stream",
     "text": [
      "1/1 [==============================] - 0s 17ms/step\n",
      "322/322 [==============================] - 0s 591us/step\n"
     ]
    },
    {
     "name": "stderr",
     "output_type": "stream",
     "text": [
      " 18%|█▊        | 19/103 [00:08<00:35,  2.35it/s]"
     ]
    },
    {
     "name": "stdout",
     "output_type": "stream",
     "text": [
      "1/1 [==============================] - 0s 17ms/step\n",
      "322/322 [==============================] - 0s 591us/step\n"
     ]
    },
    {
     "name": "stderr",
     "output_type": "stream",
     "text": [
      " 19%|█▉        | 20/103 [00:09<00:35,  2.36it/s]"
     ]
    },
    {
     "name": "stdout",
     "output_type": "stream",
     "text": [
      "1/1 [==============================] - 0s 15ms/step\n",
      "322/322 [==============================] - 0s 591us/step\n"
     ]
    },
    {
     "name": "stderr",
     "output_type": "stream",
     "text": [
      " 20%|██        | 21/103 [00:09<00:34,  2.36it/s]"
     ]
    },
    {
     "name": "stdout",
     "output_type": "stream",
     "text": [
      "1/1 [==============================] - 0s 17ms/step\n",
      "322/322 [==============================] - 0s 589us/step\n"
     ]
    },
    {
     "name": "stderr",
     "output_type": "stream",
     "text": [
      " 21%|██▏       | 22/103 [00:09<00:34,  2.32it/s]"
     ]
    },
    {
     "name": "stdout",
     "output_type": "stream",
     "text": [
      "1/1 [==============================] - 0s 18ms/step\n",
      "322/322 [==============================] - 0s 588us/step\n"
     ]
    },
    {
     "name": "stderr",
     "output_type": "stream",
     "text": [
      " 22%|██▏       | 23/103 [00:10<00:34,  2.34it/s]"
     ]
    },
    {
     "name": "stdout",
     "output_type": "stream",
     "text": [
      "1/1 [==============================] - 0s 16ms/step\n",
      "322/322 [==============================] - 0s 661us/step\n"
     ]
    },
    {
     "name": "stderr",
     "output_type": "stream",
     "text": [
      " 23%|██▎       | 24/103 [00:10<00:34,  2.30it/s]"
     ]
    },
    {
     "name": "stdout",
     "output_type": "stream",
     "text": [
      "1/1 [==============================] - 0s 16ms/step\n",
      "322/322 [==============================] - 0s 574us/step\n"
     ]
    },
    {
     "name": "stderr",
     "output_type": "stream",
     "text": [
      " 24%|██▍       | 25/103 [00:11<00:33,  2.32it/s]"
     ]
    },
    {
     "name": "stdout",
     "output_type": "stream",
     "text": [
      "1/1 [==============================] - 0s 56ms/step\n",
      "322/322 [==============================] - 0s 585us/step\n"
     ]
    },
    {
     "name": "stderr",
     "output_type": "stream",
     "text": [
      " 25%|██▌       | 26/103 [00:11<00:34,  2.25it/s]"
     ]
    },
    {
     "name": "stdout",
     "output_type": "stream",
     "text": [
      "1/1 [==============================] - 0s 17ms/step\n",
      "322/322 [==============================] - 0s 595us/step\n"
     ]
    },
    {
     "name": "stderr",
     "output_type": "stream",
     "text": [
      " 26%|██▌       | 27/103 [00:12<00:33,  2.28it/s]"
     ]
    },
    {
     "name": "stdout",
     "output_type": "stream",
     "text": [
      "1/1 [==============================] - 0s 16ms/step\n",
      "322/322 [==============================] - 0s 582us/step\n"
     ]
    },
    {
     "name": "stderr",
     "output_type": "stream",
     "text": [
      " 27%|██▋       | 28/103 [00:12<00:32,  2.31it/s]"
     ]
    },
    {
     "name": "stdout",
     "output_type": "stream",
     "text": [
      "1/1 [==============================] - 0s 19ms/step\n",
      "322/322 [==============================] - 0s 580us/step\n"
     ]
    },
    {
     "name": "stderr",
     "output_type": "stream",
     "text": [
      " 28%|██▊       | 29/103 [00:12<00:32,  2.31it/s]"
     ]
    },
    {
     "name": "stdout",
     "output_type": "stream",
     "text": [
      "1/1 [==============================] - 0s 16ms/step\n",
      "322/322 [==============================] - 0s 586us/step\n"
     ]
    },
    {
     "name": "stderr",
     "output_type": "stream",
     "text": [
      " 29%|██▉       | 30/103 [00:13<00:31,  2.30it/s]"
     ]
    },
    {
     "name": "stdout",
     "output_type": "stream",
     "text": [
      "1/1 [==============================] - 0s 16ms/step\n",
      "322/322 [==============================] - 0s 591us/step\n"
     ]
    },
    {
     "name": "stderr",
     "output_type": "stream",
     "text": [
      " 30%|███       | 31/103 [00:13<00:31,  2.29it/s]"
     ]
    },
    {
     "name": "stdout",
     "output_type": "stream",
     "text": [
      "1/1 [==============================] - 0s 18ms/step\n",
      "322/322 [==============================] - 0s 606us/step\n"
     ]
    },
    {
     "name": "stderr",
     "output_type": "stream",
     "text": [
      " 31%|███       | 32/103 [00:14<00:30,  2.30it/s]"
     ]
    },
    {
     "name": "stdout",
     "output_type": "stream",
     "text": [
      "1/1 [==============================] - 0s 18ms/step\n",
      "322/322 [==============================] - 0s 642us/step\n"
     ]
    },
    {
     "name": "stderr",
     "output_type": "stream",
     "text": [
      " 32%|███▏      | 33/103 [00:14<00:30,  2.27it/s]"
     ]
    },
    {
     "name": "stdout",
     "output_type": "stream",
     "text": [
      "1/1 [==============================] - 0s 21ms/step\n",
      "322/322 [==============================] - 0s 682us/step\n"
     ]
    },
    {
     "name": "stderr",
     "output_type": "stream",
     "text": [
      " 33%|███▎      | 34/103 [00:15<00:30,  2.23it/s]"
     ]
    },
    {
     "name": "stdout",
     "output_type": "stream",
     "text": [
      "1/1 [==============================] - 0s 18ms/step\n",
      "322/322 [==============================] - 0s 605us/step\n"
     ]
    },
    {
     "name": "stderr",
     "output_type": "stream",
     "text": [
      " 34%|███▍      | 35/103 [00:15<00:30,  2.25it/s]"
     ]
    },
    {
     "name": "stdout",
     "output_type": "stream",
     "text": [
      "1/1 [==============================] - 0s 16ms/step\n",
      "322/322 [==============================] - 0s 636us/step\n"
     ]
    },
    {
     "name": "stderr",
     "output_type": "stream",
     "text": [
      " 35%|███▍      | 36/103 [00:16<00:29,  2.24it/s]"
     ]
    },
    {
     "name": "stdout",
     "output_type": "stream",
     "text": [
      "1/1 [==============================] - 0s 17ms/step\n",
      "322/322 [==============================] - 0s 589us/step\n"
     ]
    },
    {
     "name": "stderr",
     "output_type": "stream",
     "text": [
      " 36%|███▌      | 37/103 [00:16<00:28,  2.28it/s]"
     ]
    },
    {
     "name": "stdout",
     "output_type": "stream",
     "text": [
      "1/1 [==============================] - 0s 18ms/step\n",
      "322/322 [==============================] - 0s 605us/step\n"
     ]
    },
    {
     "name": "stderr",
     "output_type": "stream",
     "text": [
      " 37%|███▋      | 38/103 [00:16<00:28,  2.28it/s]"
     ]
    },
    {
     "name": "stdout",
     "output_type": "stream",
     "text": [
      "1/1 [==============================] - 0s 17ms/step\n",
      "322/322 [==============================] - 0s 646us/step\n"
     ]
    },
    {
     "name": "stderr",
     "output_type": "stream",
     "text": [
      " 38%|███▊      | 39/103 [00:17<00:28,  2.27it/s]"
     ]
    },
    {
     "name": "stdout",
     "output_type": "stream",
     "text": [
      "1/1 [==============================] - 0s 18ms/step\n",
      "322/322 [==============================] - 0s 603us/step\n"
     ]
    },
    {
     "name": "stderr",
     "output_type": "stream",
     "text": [
      " 39%|███▉      | 40/103 [00:17<00:27,  2.29it/s]"
     ]
    },
    {
     "name": "stdout",
     "output_type": "stream",
     "text": [
      "1/1 [==============================] - 0s 17ms/step\n",
      "322/322 [==============================] - 0s 591us/step\n"
     ]
    },
    {
     "name": "stderr",
     "output_type": "stream",
     "text": [
      " 40%|███▉      | 41/103 [00:18<00:26,  2.31it/s]"
     ]
    },
    {
     "name": "stdout",
     "output_type": "stream",
     "text": [
      "1/1 [==============================] - 0s 16ms/step\n",
      "322/322 [==============================] - 0s 603us/step\n"
     ]
    },
    {
     "name": "stderr",
     "output_type": "stream",
     "text": [
      " 41%|████      | 42/103 [00:18<00:26,  2.31it/s]"
     ]
    },
    {
     "name": "stdout",
     "output_type": "stream",
     "text": [
      "1/1 [==============================] - 0s 18ms/step\n",
      "322/322 [==============================] - 0s 585us/step\n"
     ]
    },
    {
     "name": "stderr",
     "output_type": "stream",
     "text": [
      " 42%|████▏     | 43/103 [00:19<00:25,  2.33it/s]"
     ]
    },
    {
     "name": "stdout",
     "output_type": "stream",
     "text": [
      "1/1 [==============================] - 0s 17ms/step\n",
      "322/322 [==============================] - 0s 581us/step\n"
     ]
    },
    {
     "name": "stderr",
     "output_type": "stream",
     "text": [
      " 43%|████▎     | 44/103 [00:19<00:25,  2.36it/s]"
     ]
    },
    {
     "name": "stdout",
     "output_type": "stream",
     "text": [
      "1/1 [==============================] - 0s 15ms/step\n",
      "322/322 [==============================] - 0s 597us/step\n"
     ]
    },
    {
     "name": "stderr",
     "output_type": "stream",
     "text": [
      " 44%|████▎     | 45/103 [00:19<00:24,  2.36it/s]"
     ]
    },
    {
     "name": "stdout",
     "output_type": "stream",
     "text": [
      "1/1 [==============================] - 0s 16ms/step\n",
      "322/322 [==============================] - 0s 594us/step\n"
     ]
    },
    {
     "name": "stderr",
     "output_type": "stream",
     "text": [
      " 45%|████▍     | 46/103 [00:20<00:24,  2.36it/s]"
     ]
    },
    {
     "name": "stdout",
     "output_type": "stream",
     "text": [
      "1/1 [==============================] - 0s 17ms/step\n",
      "322/322 [==============================] - 0s 588us/step\n"
     ]
    },
    {
     "name": "stderr",
     "output_type": "stream",
     "text": [
      " 46%|████▌     | 47/103 [00:20<00:23,  2.37it/s]"
     ]
    },
    {
     "name": "stdout",
     "output_type": "stream",
     "text": [
      "1/1 [==============================] - 0s 16ms/step\n",
      "322/322 [==============================] - 0s 587us/step\n"
     ]
    },
    {
     "name": "stderr",
     "output_type": "stream",
     "text": [
      " 47%|████▋     | 48/103 [00:21<00:23,  2.37it/s]"
     ]
    },
    {
     "name": "stdout",
     "output_type": "stream",
     "text": [
      "1/1 [==============================] - 0s 16ms/step\n",
      "322/322 [==============================] - 0s 595us/step\n"
     ]
    },
    {
     "name": "stderr",
     "output_type": "stream",
     "text": [
      " 48%|████▊     | 49/103 [00:21<00:22,  2.38it/s]"
     ]
    },
    {
     "name": "stdout",
     "output_type": "stream",
     "text": [
      "1/1 [==============================] - 0s 18ms/step\n",
      "322/322 [==============================] - 0s 587us/step\n"
     ]
    },
    {
     "name": "stderr",
     "output_type": "stream",
     "text": [
      " 49%|████▊     | 50/103 [00:22<00:22,  2.35it/s]"
     ]
    },
    {
     "name": "stdout",
     "output_type": "stream",
     "text": [
      "1/1 [==============================] - 0s 17ms/step\n",
      "322/322 [==============================] - 0s 586us/step\n"
     ]
    },
    {
     "name": "stderr",
     "output_type": "stream",
     "text": [
      " 50%|████▉     | 51/103 [00:22<00:22,  2.36it/s]"
     ]
    },
    {
     "name": "stdout",
     "output_type": "stream",
     "text": [
      "1/1 [==============================] - 0s 16ms/step\n",
      "322/322 [==============================] - 0s 580us/step\n"
     ]
    },
    {
     "name": "stderr",
     "output_type": "stream",
     "text": [
      " 50%|█████     | 52/103 [00:22<00:21,  2.37it/s]"
     ]
    },
    {
     "name": "stdout",
     "output_type": "stream",
     "text": [
      "1/1 [==============================] - 0s 16ms/step\n",
      "322/322 [==============================] - 0s 583us/step\n"
     ]
    },
    {
     "name": "stderr",
     "output_type": "stream",
     "text": [
      " 51%|█████▏    | 53/103 [00:23<00:20,  2.39it/s]"
     ]
    },
    {
     "name": "stdout",
     "output_type": "stream",
     "text": [
      "1/1 [==============================] - 0s 16ms/step\n",
      "322/322 [==============================] - 0s 585us/step\n"
     ]
    },
    {
     "name": "stderr",
     "output_type": "stream",
     "text": [
      " 52%|█████▏    | 54/103 [00:23<00:20,  2.39it/s]"
     ]
    },
    {
     "name": "stdout",
     "output_type": "stream",
     "text": [
      "1/1 [==============================] - 0s 17ms/step\n",
      "322/322 [==============================] - 0s 599us/step\n"
     ]
    },
    {
     "name": "stderr",
     "output_type": "stream",
     "text": [
      " 53%|█████▎    | 55/103 [00:24<00:20,  2.37it/s]"
     ]
    },
    {
     "name": "stdout",
     "output_type": "stream",
     "text": [
      "1/1 [==============================] - 0s 16ms/step\n",
      "322/322 [==============================] - 0s 595us/step\n"
     ]
    },
    {
     "name": "stderr",
     "output_type": "stream",
     "text": [
      " 54%|█████▍    | 56/103 [00:24<00:19,  2.36it/s]"
     ]
    },
    {
     "name": "stdout",
     "output_type": "stream",
     "text": [
      "1/1 [==============================] - 0s 16ms/step\n",
      "322/322 [==============================] - 0s 638us/step\n"
     ]
    },
    {
     "name": "stderr",
     "output_type": "stream",
     "text": [
      " 55%|█████▌    | 57/103 [00:25<00:19,  2.30it/s]"
     ]
    },
    {
     "name": "stdout",
     "output_type": "stream",
     "text": [
      "1/1 [==============================] - 0s 17ms/step\n",
      "322/322 [==============================] - 0s 581us/step\n"
     ]
    },
    {
     "name": "stderr",
     "output_type": "stream",
     "text": [
      " 56%|█████▋    | 58/103 [00:25<00:19,  2.32it/s]"
     ]
    },
    {
     "name": "stdout",
     "output_type": "stream",
     "text": [
      "1/1 [==============================] - 0s 17ms/step\n",
      "322/322 [==============================] - 0s 598us/step\n"
     ]
    },
    {
     "name": "stderr",
     "output_type": "stream",
     "text": [
      " 57%|█████▋    | 59/103 [00:25<00:18,  2.33it/s]"
     ]
    },
    {
     "name": "stdout",
     "output_type": "stream",
     "text": [
      "1/1 [==============================] - 0s 20ms/step\n",
      "322/322 [==============================] - 0s 588us/step\n"
     ]
    },
    {
     "name": "stderr",
     "output_type": "stream",
     "text": [
      " 58%|█████▊    | 60/103 [00:26<00:18,  2.34it/s]"
     ]
    },
    {
     "name": "stdout",
     "output_type": "stream",
     "text": [
      "1/1 [==============================] - 0s 17ms/step\n",
      "322/322 [==============================] - 0s 580us/step\n"
     ]
    },
    {
     "name": "stderr",
     "output_type": "stream",
     "text": [
      " 59%|█████▉    | 61/103 [00:26<00:17,  2.34it/s]"
     ]
    },
    {
     "name": "stdout",
     "output_type": "stream",
     "text": [
      "1/1 [==============================] - 0s 16ms/step\n",
      "322/322 [==============================] - 0s 583us/step\n"
     ]
    },
    {
     "name": "stderr",
     "output_type": "stream",
     "text": [
      " 60%|██████    | 62/103 [00:27<00:17,  2.36it/s]"
     ]
    },
    {
     "name": "stdout",
     "output_type": "stream",
     "text": [
      "1/1 [==============================] - 0s 16ms/step\n",
      "322/322 [==============================] - 0s 572us/step\n"
     ]
    },
    {
     "name": "stderr",
     "output_type": "stream",
     "text": [
      " 61%|██████    | 63/103 [00:27<00:16,  2.37it/s]"
     ]
    },
    {
     "name": "stdout",
     "output_type": "stream",
     "text": [
      "1/1 [==============================] - 0s 18ms/step\n",
      "322/322 [==============================] - 0s 594us/step\n"
     ]
    },
    {
     "name": "stderr",
     "output_type": "stream",
     "text": [
      " 62%|██████▏   | 64/103 [00:27<00:16,  2.36it/s]"
     ]
    },
    {
     "name": "stdout",
     "output_type": "stream",
     "text": [
      "1/1 [==============================] - 0s 17ms/step\n",
      "322/322 [==============================] - 0s 593us/step\n"
     ]
    },
    {
     "name": "stderr",
     "output_type": "stream",
     "text": [
      " 63%|██████▎   | 65/103 [00:28<00:16,  2.36it/s]"
     ]
    },
    {
     "name": "stdout",
     "output_type": "stream",
     "text": [
      "1/1 [==============================] - 0s 16ms/step\n",
      "322/322 [==============================] - 0s 629us/step\n"
     ]
    },
    {
     "name": "stderr",
     "output_type": "stream",
     "text": [
      " 64%|██████▍   | 66/103 [00:28<00:15,  2.34it/s]"
     ]
    },
    {
     "name": "stdout",
     "output_type": "stream",
     "text": [
      "1/1 [==============================] - 0s 16ms/step\n",
      "322/322 [==============================] - 0s 575us/step\n"
     ]
    },
    {
     "name": "stderr",
     "output_type": "stream",
     "text": [
      " 65%|██████▌   | 67/103 [00:29<00:15,  2.36it/s]"
     ]
    },
    {
     "name": "stdout",
     "output_type": "stream",
     "text": [
      "1/1 [==============================] - 0s 16ms/step\n",
      "322/322 [==============================] - 0s 605us/step\n"
     ]
    },
    {
     "name": "stderr",
     "output_type": "stream",
     "text": [
      " 66%|██████▌   | 68/103 [00:29<00:14,  2.35it/s]"
     ]
    },
    {
     "name": "stdout",
     "output_type": "stream",
     "text": [
      "1/1 [==============================] - 0s 17ms/step\n",
      "322/322 [==============================] - 0s 605us/step\n"
     ]
    },
    {
     "name": "stderr",
     "output_type": "stream",
     "text": [
      " 67%|██████▋   | 69/103 [00:30<00:14,  2.35it/s]"
     ]
    },
    {
     "name": "stdout",
     "output_type": "stream",
     "text": [
      "1/1 [==============================] - 0s 17ms/step\n",
      "322/322 [==============================] - 0s 597us/step\n"
     ]
    },
    {
     "name": "stderr",
     "output_type": "stream",
     "text": [
      " 68%|██████▊   | 70/103 [00:30<00:14,  2.30it/s]"
     ]
    },
    {
     "name": "stdout",
     "output_type": "stream",
     "text": [
      "1/1 [==============================] - 0s 17ms/step\n",
      "322/322 [==============================] - 0s 596us/step\n"
     ]
    },
    {
     "name": "stderr",
     "output_type": "stream",
     "text": [
      " 69%|██████▉   | 71/103 [00:31<00:13,  2.32it/s]"
     ]
    },
    {
     "name": "stdout",
     "output_type": "stream",
     "text": [
      "1/1 [==============================] - 0s 17ms/step\n",
      "322/322 [==============================] - 0s 601us/step\n"
     ]
    },
    {
     "name": "stderr",
     "output_type": "stream",
     "text": [
      " 70%|██████▉   | 72/103 [00:31<00:13,  2.33it/s]"
     ]
    },
    {
     "name": "stdout",
     "output_type": "stream",
     "text": [
      "1/1 [==============================] - 0s 17ms/step\n",
      "322/322 [==============================] - 0s 597us/step\n"
     ]
    },
    {
     "name": "stderr",
     "output_type": "stream",
     "text": [
      " 71%|███████   | 73/103 [00:31<00:12,  2.34it/s]"
     ]
    },
    {
     "name": "stdout",
     "output_type": "stream",
     "text": [
      "1/1 [==============================] - 0s 17ms/step\n",
      "322/322 [==============================] - 0s 592us/step\n"
     ]
    },
    {
     "name": "stderr",
     "output_type": "stream",
     "text": [
      " 72%|███████▏  | 74/103 [00:32<00:12,  2.35it/s]"
     ]
    },
    {
     "name": "stdout",
     "output_type": "stream",
     "text": [
      "1/1 [==============================] - 0s 16ms/step\n",
      "322/322 [==============================] - 0s 582us/step\n"
     ]
    },
    {
     "name": "stderr",
     "output_type": "stream",
     "text": [
      " 73%|███████▎  | 75/103 [00:32<00:11,  2.37it/s]"
     ]
    },
    {
     "name": "stdout",
     "output_type": "stream",
     "text": [
      "1/1 [==============================] - 0s 17ms/step\n",
      "322/322 [==============================] - 0s 589us/step\n"
     ]
    },
    {
     "name": "stderr",
     "output_type": "stream",
     "text": [
      " 74%|███████▍  | 76/103 [00:33<00:11,  2.37it/s]"
     ]
    },
    {
     "name": "stdout",
     "output_type": "stream",
     "text": [
      "1/1 [==============================] - 0s 17ms/step\n",
      "322/322 [==============================] - 0s 596us/step\n"
     ]
    },
    {
     "name": "stderr",
     "output_type": "stream",
     "text": [
      " 75%|███████▍  | 77/103 [00:33<00:10,  2.37it/s]"
     ]
    },
    {
     "name": "stdout",
     "output_type": "stream",
     "text": [
      "1/1 [==============================] - 0s 18ms/step\n",
      "322/322 [==============================] - 0s 591us/step\n"
     ]
    },
    {
     "name": "stderr",
     "output_type": "stream",
     "text": [
      " 76%|███████▌  | 78/103 [00:33<00:10,  2.35it/s]"
     ]
    },
    {
     "name": "stdout",
     "output_type": "stream",
     "text": [
      "1/1 [==============================] - 0s 16ms/step\n",
      "322/322 [==============================] - 0s 587us/step\n"
     ]
    },
    {
     "name": "stderr",
     "output_type": "stream",
     "text": [
      " 77%|███████▋  | 79/103 [00:34<00:10,  2.37it/s]"
     ]
    },
    {
     "name": "stdout",
     "output_type": "stream",
     "text": [
      "1/1 [==============================] - 0s 17ms/step\n",
      "322/322 [==============================] - 0s 588us/step\n"
     ]
    },
    {
     "name": "stderr",
     "output_type": "stream",
     "text": [
      " 78%|███████▊  | 80/103 [00:34<00:09,  2.35it/s]"
     ]
    },
    {
     "name": "stdout",
     "output_type": "stream",
     "text": [
      "1/1 [==============================] - 0s 16ms/step\n",
      "322/322 [==============================] - 0s 586us/step\n"
     ]
    },
    {
     "name": "stderr",
     "output_type": "stream",
     "text": [
      " 79%|███████▊  | 81/103 [00:35<00:09,  2.36it/s]"
     ]
    },
    {
     "name": "stdout",
     "output_type": "stream",
     "text": [
      "1/1 [==============================] - 0s 17ms/step\n",
      "322/322 [==============================] - 0s 589us/step\n"
     ]
    },
    {
     "name": "stderr",
     "output_type": "stream",
     "text": [
      " 80%|███████▉  | 82/103 [00:35<00:08,  2.37it/s]"
     ]
    },
    {
     "name": "stdout",
     "output_type": "stream",
     "text": [
      "1/1 [==============================] - 0s 16ms/step\n",
      "322/322 [==============================] - 0s 617us/step\n"
     ]
    },
    {
     "name": "stderr",
     "output_type": "stream",
     "text": [
      " 81%|████████  | 83/103 [00:36<00:08,  2.36it/s]"
     ]
    },
    {
     "name": "stdout",
     "output_type": "stream",
     "text": [
      "1/1 [==============================] - 0s 16ms/step\n",
      "322/322 [==============================] - 0s 600us/step\n"
     ]
    },
    {
     "name": "stderr",
     "output_type": "stream",
     "text": [
      " 82%|████████▏ | 84/103 [00:36<00:08,  2.36it/s]"
     ]
    },
    {
     "name": "stdout",
     "output_type": "stream",
     "text": [
      "1/1 [==============================] - 0s 18ms/step\n",
      "322/322 [==============================] - 0s 588us/step\n"
     ]
    },
    {
     "name": "stderr",
     "output_type": "stream",
     "text": [
      " 83%|████████▎ | 85/103 [00:36<00:07,  2.36it/s]"
     ]
    },
    {
     "name": "stdout",
     "output_type": "stream",
     "text": [
      "1/1 [==============================] - 0s 17ms/step\n",
      "322/322 [==============================] - 0s 584us/step\n"
     ]
    },
    {
     "name": "stderr",
     "output_type": "stream",
     "text": [
      " 83%|████████▎ | 86/103 [00:37<00:07,  2.38it/s]"
     ]
    },
    {
     "name": "stdout",
     "output_type": "stream",
     "text": [
      "1/1 [==============================] - 0s 16ms/step\n",
      "322/322 [==============================] - 0s 585us/step\n"
     ]
    },
    {
     "name": "stderr",
     "output_type": "stream",
     "text": [
      " 84%|████████▍ | 87/103 [00:37<00:06,  2.37it/s]"
     ]
    },
    {
     "name": "stdout",
     "output_type": "stream",
     "text": [
      "1/1 [==============================] - 0s 17ms/step\n",
      "322/322 [==============================] - 0s 733us/step\n"
     ]
    },
    {
     "name": "stderr",
     "output_type": "stream",
     "text": [
      " 85%|████████▌ | 88/103 [00:38<00:07,  2.03it/s]"
     ]
    },
    {
     "name": "stdout",
     "output_type": "stream",
     "text": [
      "1/1 [==============================] - 0s 18ms/step\n",
      "322/322 [==============================] - 0s 582us/step\n"
     ]
    },
    {
     "name": "stderr",
     "output_type": "stream",
     "text": [
      " 86%|████████▋ | 89/103 [00:38<00:06,  2.11it/s]"
     ]
    },
    {
     "name": "stdout",
     "output_type": "stream",
     "text": [
      "1/1 [==============================] - 0s 17ms/step\n",
      "322/322 [==============================] - 0s 575us/step\n"
     ]
    },
    {
     "name": "stderr",
     "output_type": "stream",
     "text": [
      " 87%|████████▋ | 90/103 [00:39<00:05,  2.19it/s]"
     ]
    },
    {
     "name": "stdout",
     "output_type": "stream",
     "text": [
      "1/1 [==============================] - 0s 18ms/step\n",
      "322/322 [==============================] - 0s 580us/step\n"
     ]
    },
    {
     "name": "stderr",
     "output_type": "stream",
     "text": [
      " 88%|████████▊ | 91/103 [00:39<00:05,  2.25it/s]"
     ]
    },
    {
     "name": "stdout",
     "output_type": "stream",
     "text": [
      "1/1 [==============================] - 0s 18ms/step\n",
      "322/322 [==============================] - 0s 608us/step\n"
     ]
    },
    {
     "name": "stderr",
     "output_type": "stream",
     "text": [
      " 89%|████████▉ | 92/103 [00:40<00:04,  2.27it/s]"
     ]
    },
    {
     "name": "stdout",
     "output_type": "stream",
     "text": [
      "1/1 [==============================] - 0s 16ms/step\n",
      "322/322 [==============================] - 0s 601us/step\n"
     ]
    },
    {
     "name": "stderr",
     "output_type": "stream",
     "text": [
      " 90%|█████████ | 93/103 [00:40<00:04,  2.30it/s]"
     ]
    },
    {
     "name": "stdout",
     "output_type": "stream",
     "text": [
      "1/1 [==============================] - 0s 15ms/step\n",
      "322/322 [==============================] - 0s 646us/step\n"
     ]
    },
    {
     "name": "stderr",
     "output_type": "stream",
     "text": [
      " 91%|█████████▏| 94/103 [00:40<00:03,  2.30it/s]"
     ]
    },
    {
     "name": "stdout",
     "output_type": "stream",
     "text": [
      "1/1 [==============================] - 0s 17ms/step\n",
      "322/322 [==============================] - 0s 589us/step\n"
     ]
    },
    {
     "name": "stderr",
     "output_type": "stream",
     "text": [
      " 92%|█████████▏| 95/103 [00:41<00:03,  2.32it/s]"
     ]
    },
    {
     "name": "stdout",
     "output_type": "stream",
     "text": [
      "1/1 [==============================] - 0s 16ms/step\n",
      "322/322 [==============================] - 0s 585us/step\n"
     ]
    },
    {
     "name": "stderr",
     "output_type": "stream",
     "text": [
      " 93%|█████████▎| 96/103 [00:41<00:02,  2.34it/s]"
     ]
    },
    {
     "name": "stdout",
     "output_type": "stream",
     "text": [
      "1/1 [==============================] - 0s 19ms/step\n",
      "322/322 [==============================] - 0s 606us/step\n"
     ]
    },
    {
     "name": "stderr",
     "output_type": "stream",
     "text": [
      " 94%|█████████▍| 97/103 [00:42<00:02,  2.34it/s]"
     ]
    },
    {
     "name": "stdout",
     "output_type": "stream",
     "text": [
      "1/1 [==============================] - 0s 17ms/step\n",
      "322/322 [==============================] - 0s 611us/step\n"
     ]
    },
    {
     "name": "stderr",
     "output_type": "stream",
     "text": [
      " 95%|█████████▌| 98/103 [00:42<00:02,  2.35it/s]"
     ]
    },
    {
     "name": "stdout",
     "output_type": "stream",
     "text": [
      "1/1 [==============================] - 0s 17ms/step\n",
      "322/322 [==============================] - 0s 578us/step\n"
     ]
    },
    {
     "name": "stderr",
     "output_type": "stream",
     "text": [
      " 96%|█████████▌| 99/103 [00:43<00:01,  2.36it/s]"
     ]
    },
    {
     "name": "stdout",
     "output_type": "stream",
     "text": [
      "1/1 [==============================] - 0s 16ms/step\n",
      "322/322 [==============================] - 0s 575us/step\n"
     ]
    },
    {
     "name": "stderr",
     "output_type": "stream",
     "text": [
      " 97%|█████████▋| 100/103 [00:43<00:01,  2.37it/s]"
     ]
    },
    {
     "name": "stdout",
     "output_type": "stream",
     "text": [
      "1/1 [==============================] - 0s 15ms/step\n",
      "322/322 [==============================] - 0s 590us/step\n"
     ]
    },
    {
     "name": "stderr",
     "output_type": "stream",
     "text": [
      " 98%|█████████▊| 101/103 [00:43<00:00,  2.37it/s]"
     ]
    },
    {
     "name": "stdout",
     "output_type": "stream",
     "text": [
      "1/1 [==============================] - 0s 16ms/step\n",
      "322/322 [==============================] - 0s 584us/step\n"
     ]
    },
    {
     "name": "stderr",
     "output_type": "stream",
     "text": [
      " 99%|█████████▉| 102/103 [00:44<00:00,  2.37it/s]"
     ]
    },
    {
     "name": "stdout",
     "output_type": "stream",
     "text": [
      "1/1 [==============================] - 0s 18ms/step\n",
      "322/322 [==============================] - 0s 583us/step\n"
     ]
    },
    {
     "name": "stderr",
     "output_type": "stream",
     "text": [
      "100%|██████████| 103/103 [00:44<00:00,  2.30it/s]\n"
     ]
    },
    {
     "data": {
      "image/png": "[encoded data removed]",
      "text/plain": [
       "<Figure size 576x712.8 with 2 Axes>"
      ]
     },
     "metadata": {
      "needs_background": "light"
     },
     "output_type": "display_data"
    },
    {
     "data": {
      "image/png": "[encoded data removed]",
      "text/plain": [
       "<Figure size 576x712.8 with 2 Axes>"
      ]
     },
     "metadata": {
      "needs_background": "light"
     },
     "output_type": "display_data"
    },
    {
     "data": {
      "image/png": "[encoded data removed]",
      "text/plain": [
       "<Figure size 576x712.8 with 2 Axes>"
      ]
     },
     "metadata": {
      "needs_background": "light"
     },
     "output_type": "display_data"
    },
    {
     "data": {
      "image/png": "[encoded data removed]",
      "text/plain": [
       "<Figure size 576x712.8 with 1 Axes>"
      ]
     },
     "metadata": {
      "needs_background": "light"
     },
     "output_type": "display_data"
    }
   ],
   "source": [
    "from pydoc import classname\n",
    "import warnings\n",
    "import shap\n",
    "\n",
    "classes=['Web', 'Interactive', 'Video']\n",
    "explainer = shap.KernelExplainer(model.predict, X_test)\n",
    "with warnings.catch_warnings():\n",
    "    warnings.filterwarnings(\"ignore\")\n",
    "    shap_values = explainer.shap_values(X_test, nsamples=100)\n",
    "#print(shap_values)\n",
    "\n",
    "shap.summary_plot(shap_values[0], X_test, feature_names=features, max_display=24, \n",
    "                    class_names=classes, color_bar_label='Feature value for Web', plot_type=\"violin\")\n",
    "shap.summary_plot(shap_values[1], X_test, feature_names=features, max_display=24, \n",
    "                    class_names=classes, color_bar_label='Feature value for Interactive', plot_type=\"violin\")\n",
    "shap.summary_plot(shap_values[2], X_test, feature_names=features, max_display=24, \n",
    "                    class_names=classes, color_bar_label='Feature value for Video', plot_type=\"violin\")\n",
    "\n",
    "shap.summary_plot(shap_values, X_test, feature_names=features, max_display=24, \n",
    "                    class_names=classes, color_bar_label='Feature value for all')"
   ]
  },
  {
   "cell_type": "code",
   "execution_count": null,
   "metadata": {},
   "outputs": [],
   "source": []
  }
 ],
 "metadata": {
  "kernelspec": {
   "display_name": "base",
   "language": "python",
   "name": "python3"
  },
  "language_info": {
   "codemirror_mode": {
    "name": "ipython",
    "version": 3
   },
   "file_extension": ".py",
   "mimetype": "text/x-python",
   "name": "python",
   "nbconvert_exporter": "python",
   "pygments_lexer": "ipython3",
   "version": "3.9.7"
  },
  "orig_nbformat": 4,
  "vscode": {
   "interpreter": {
    "hash": "755acbc9cb9f1df84f78a1996c05787445af03c33496e5e0c15fef4dfd1e9927"
   }
  }
 },
 "nbformat": 4,
 "nbformat_minor": 2
}
